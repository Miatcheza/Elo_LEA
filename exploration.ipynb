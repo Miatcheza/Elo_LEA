{
 "cells": [
  {
   "cell_type": "markdown",
   "metadata": {},
   "source": [
    "# Exploration du jeu de données fourni par Elo"
   ]
  },
  {
   "cell_type": "markdown",
   "metadata": {},
   "source": [
    "Le jeu de données se compose de 4 fichiers :\n",
    "- un fichier \"train.csv\" avec la variable \"target\" à prédire (c'est un score de fidélité normalisé) ;\n",
    "- un fichier \"historical_transactions.csv\" ;\n",
    "- un fichier \"new_merchants_transactions.csv\" qui a les mêmes colonnes que le fichier \"historical_transactions\" ; il concerne les transactions auprès d'un nouveau marchand (les premières fois) ;\n",
    "- un fichier \"merchants.csv\" comportant des informations sur les marchands.\n",
    "\n",
    "Un fichier \"test.csv\" est également mis à disposition, avec de nouvelles card_id pour lesquelles il est demandé de calculer un score de prédiction."
   ]
  },
  {
   "cell_type": "markdown",
   "metadata": {},
   "source": [
    "Chargements des packages"
   ]
  },
  {
   "cell_type": "code",
   "execution_count": 1,
   "metadata": {
    "collapsed": true
   },
   "outputs": [],
   "source": [
    "import numpy as np\n",
    "import pandas as pd\n",
    "\n",
    "import matplotlib.pyplot as plt\n",
    "%matplotlib inline\n",
    "import seaborn as sns\n",
    "sns.set()"
   ]
  },
  {
   "cell_type": "code",
   "execution_count": 2,
   "metadata": {},
   "outputs": [
    {
     "data": {
      "text/html": [
       "\n",
       "    <div class=\"bk-root\">\n",
       "        <a href=\"http://bokeh.pydata.org\" target=\"_blank\" class=\"bk-logo bk-logo-small bk-logo-notebook\"></a>\n",
       "        <span id=\"1eb9948b-230d-4c3c-99f9-f68248038a12\">Loading BokehJS ...</span>\n",
       "    </div>"
      ]
     },
     "metadata": {},
     "output_type": "display_data"
    },
    {
     "data": {
      "application/javascript": [
       "\n",
       "(function(global) {\n",
       "  function now() {\n",
       "    return new Date();\n",
       "  }\n",
       "\n",
       "  var force = true;\n",
       "\n",
       "  if (typeof (window._bokeh_onload_callbacks) === \"undefined\" || force === true) {\n",
       "    window._bokeh_onload_callbacks = [];\n",
       "    window._bokeh_is_loading = undefined;\n",
       "  }\n",
       "\n",
       "\n",
       "  \n",
       "  if (typeof (window._bokeh_timeout) === \"undefined\" || force === true) {\n",
       "    window._bokeh_timeout = Date.now() + 5000;\n",
       "    window._bokeh_failed_load = false;\n",
       "  }\n",
       "\n",
       "  var NB_LOAD_WARNING = {'data': {'text/html':\n",
       "     \"<div style='background-color: #fdd'>\\n\"+\n",
       "     \"<p>\\n\"+\n",
       "     \"BokehJS does not appear to have successfully loaded. If loading BokehJS from CDN, this \\n\"+\n",
       "     \"may be due to a slow or bad network connection. Possible fixes:\\n\"+\n",
       "     \"</p>\\n\"+\n",
       "     \"<ul>\\n\"+\n",
       "     \"<li>re-rerun `output_notebook()` to attempt to load from CDN again, or</li>\\n\"+\n",
       "     \"<li>use INLINE resources instead, as so:</li>\\n\"+\n",
       "     \"</ul>\\n\"+\n",
       "     \"<code>\\n\"+\n",
       "     \"from bokeh.resources import INLINE\\n\"+\n",
       "     \"output_notebook(resources=INLINE)\\n\"+\n",
       "     \"</code>\\n\"+\n",
       "     \"</div>\"}};\n",
       "\n",
       "  function display_loaded() {\n",
       "    if (window.Bokeh !== undefined) {\n",
       "      var el = document.getElementById(\"1eb9948b-230d-4c3c-99f9-f68248038a12\");\n",
       "      el.textContent = \"BokehJS \" + Bokeh.version + \" successfully loaded.\";\n",
       "    } else if (Date.now() < window._bokeh_timeout) {\n",
       "      setTimeout(display_loaded, 100)\n",
       "    }\n",
       "  }\n",
       "\n",
       "  function run_callbacks() {\n",
       "    window._bokeh_onload_callbacks.forEach(function(callback) { callback() });\n",
       "    delete window._bokeh_onload_callbacks\n",
       "    console.info(\"Bokeh: all callbacks have finished\");\n",
       "  }\n",
       "\n",
       "  function load_libs(js_urls, callback) {\n",
       "    window._bokeh_onload_callbacks.push(callback);\n",
       "    if (window._bokeh_is_loading > 0) {\n",
       "      console.log(\"Bokeh: BokehJS is being loaded, scheduling callback at\", now());\n",
       "      return null;\n",
       "    }\n",
       "    if (js_urls == null || js_urls.length === 0) {\n",
       "      run_callbacks();\n",
       "      return null;\n",
       "    }\n",
       "    console.log(\"Bokeh: BokehJS not loaded, scheduling load and callback at\", now());\n",
       "    window._bokeh_is_loading = js_urls.length;\n",
       "    for (var i = 0; i < js_urls.length; i++) {\n",
       "      var url = js_urls[i];\n",
       "      var s = document.createElement('script');\n",
       "      s.src = url;\n",
       "      s.async = false;\n",
       "      s.onreadystatechange = s.onload = function() {\n",
       "        window._bokeh_is_loading--;\n",
       "        if (window._bokeh_is_loading === 0) {\n",
       "          console.log(\"Bokeh: all BokehJS libraries loaded\");\n",
       "          run_callbacks()\n",
       "        }\n",
       "      };\n",
       "      s.onerror = function() {\n",
       "        console.warn(\"failed to load library \" + url);\n",
       "      };\n",
       "      console.log(\"Bokeh: injecting script tag for BokehJS library: \", url);\n",
       "      document.getElementsByTagName(\"head\")[0].appendChild(s);\n",
       "    }\n",
       "  };var element = document.getElementById(\"1eb9948b-230d-4c3c-99f9-f68248038a12\");\n",
       "  if (element == null) {\n",
       "    console.log(\"Bokeh: ERROR: autoload.js configured with elementid '1eb9948b-230d-4c3c-99f9-f68248038a12' but no matching script tag was found. \")\n",
       "    return false;\n",
       "  }\n",
       "\n",
       "  var js_urls = [\"https://cdn.pydata.org/bokeh/release/bokeh-0.12.5.min.js\", \"https://cdn.pydata.org/bokeh/release/bokeh-widgets-0.12.5.min.js\"];\n",
       "\n",
       "  var inline_js = [\n",
       "    function(Bokeh) {\n",
       "      Bokeh.set_log_level(\"info\");\n",
       "    },\n",
       "    \n",
       "    function(Bokeh) {\n",
       "      \n",
       "    },\n",
       "    \n",
       "    function(Bokeh) {\n",
       "      \n",
       "      document.getElementById(\"1eb9948b-230d-4c3c-99f9-f68248038a12\").textContent = \"BokehJS is loading...\";\n",
       "    },\n",
       "    function(Bokeh) {\n",
       "      console.log(\"Bokeh: injecting CSS: https://cdn.pydata.org/bokeh/release/bokeh-0.12.5.min.css\");\n",
       "      Bokeh.embed.inject_css(\"https://cdn.pydata.org/bokeh/release/bokeh-0.12.5.min.css\");\n",
       "      console.log(\"Bokeh: injecting CSS: https://cdn.pydata.org/bokeh/release/bokeh-widgets-0.12.5.min.css\");\n",
       "      Bokeh.embed.inject_css(\"https://cdn.pydata.org/bokeh/release/bokeh-widgets-0.12.5.min.css\");\n",
       "    }\n",
       "  ];\n",
       "\n",
       "  function run_inline_js() {\n",
       "    \n",
       "    if ((window.Bokeh !== undefined) || (force === true)) {\n",
       "      for (var i = 0; i < inline_js.length; i++) {\n",
       "        inline_js[i](window.Bokeh);\n",
       "      }if (force === true) {\n",
       "        display_loaded();\n",
       "      }} else if (Date.now() < window._bokeh_timeout) {\n",
       "      setTimeout(run_inline_js, 100);\n",
       "    } else if (!window._bokeh_failed_load) {\n",
       "      console.log(\"Bokeh: BokehJS failed to load within specified timeout.\");\n",
       "      window._bokeh_failed_load = true;\n",
       "    } else if (force !== true) {\n",
       "      var cell = $(document.getElementById(\"1eb9948b-230d-4c3c-99f9-f68248038a12\")).parents('.cell').data().cell;\n",
       "      cell.output_area.append_execute_result(NB_LOAD_WARNING)\n",
       "    }\n",
       "\n",
       "  }\n",
       "\n",
       "  if (window._bokeh_is_loading === 0) {\n",
       "    console.log(\"Bokeh: BokehJS loaded, going straight to plotting\");\n",
       "    run_inline_js();\n",
       "  } else {\n",
       "    load_libs(js_urls, function() {\n",
       "      console.log(\"Bokeh: BokehJS plotting callback run at\", now());\n",
       "      run_inline_js();\n",
       "    });\n",
       "  }\n",
       "}(this));"
      ]
     },
     "metadata": {},
     "output_type": "display_data"
    }
   ],
   "source": [
    "# Affichage interactif avec Bokeh\n",
    "from bokeh.io import output_notebook, show\n",
    "from bokeh.plotting import figure\n",
    "output_notebook()\n",
    "import scipy.special\n",
    "from bokeh.models import LabelSet, ColumnDataSource\n",
    "from bokeh.models.tools import HoverTool"
   ]
  },
  {
   "cell_type": "markdown",
   "metadata": {},
   "source": [
    "Importation des fichiers"
   ]
  },
  {
   "cell_type": "code",
   "execution_count": 2,
   "metadata": {
    "collapsed": true
   },
   "outputs": [],
   "source": [
    "df_train = pd.read_csv(\"train.csv\")\n",
    "#df_test = pd.read_csv(\"test.csv\")\n",
    "#df_m = pd.read_csv(\"merchants.csv\")\n",
    "#df_new = pd.read_csv(\"new_merchant_transactions.csv\")\n",
    "\n",
    "#DataFrame réduit avec nrows\n",
    "#df_hist = pd.read_csv(\"historical_transactions.csv\", nrows = 10000)"
   ]
  },
  {
   "cell_type": "markdown",
   "metadata": {},
   "source": [
    "## Le fichier train.csv"
   ]
  },
  {
   "cell_type": "markdown",
   "metadata": {},
   "source": [
    "### Présentation"
   ]
  },
  {
   "cell_type": "markdown",
   "metadata": {},
   "source": [
    "Le fichier train se compose de 201 917 lignes, correspondant chacune à une card_id différente, et de 6 colonnes :\n",
    " - card_id : un identifiant unique\n",
    " - first_active_month : le mois du premier achat de la card_id\n",
    " - feature_1 : une feature catégorielle anonymisée, pouvant prendre les valeurs 1, 2, 3, 4 ou 5\n",
    " - feature_2 : une feature catégorielle anonymisée, pouvant prendre les valeurs 1, 2 ou 3\n",
    " - feature_3 : une feature catégorielle anonymisée, pouvant prendre les valeurs 0 ou 1\n",
    " - target : le score de fidélité à prédire"
   ]
  },
  {
   "cell_type": "markdown",
   "metadata": {},
   "source": [
    "### Caractéristiques générales"
   ]
  },
  {
   "cell_type": "markdown",
   "metadata": {},
   "source": [
    "On va maintenant regarder les caractéristiques de ce fichier."
   ]
  },
  {
   "cell_type": "markdown",
   "metadata": {},
   "source": [
    "- On affiche les 5 premières lignes"
   ]
  },
  {
   "cell_type": "code",
   "execution_count": null,
   "metadata": {
    "collapsed": true
   },
   "outputs": [],
   "source": [
    "df_train.head(5)"
   ]
  },
  {
   "cell_type": "markdown",
   "metadata": {},
   "source": [
    "- Comporte-t-il des valeurs manquantes ?"
   ]
  },
  {
   "cell_type": "code",
   "execution_count": null,
   "metadata": {
    "collapsed": true
   },
   "outputs": [],
   "source": [
    "pd.isnull(df_train).any()"
   ]
  },
  {
   "cell_type": "markdown",
   "metadata": {},
   "source": [
    "Il n'y a pas de valeurs manquantes dans ce fichier. "
   ]
  },
  {
   "cell_type": "markdown",
   "metadata": {},
   "source": [
    "- A quoi ressemblent les colonnes ?"
   ]
  },
  {
   "cell_type": "code",
   "execution_count": null,
   "metadata": {
    "collapsed": true
   },
   "outputs": [],
   "source": [
    "df_train.info()"
   ]
  },
  {
   "cell_type": "code",
   "execution_count": null,
   "metadata": {
    "collapsed": true
   },
   "outputs": [],
   "source": [
    "df_train.describe()"
   ]
  },
  {
   "cell_type": "markdown",
   "metadata": {},
   "source": [
    "### La variable cible : target"
   ]
  },
  {
   "cell_type": "markdown",
   "metadata": {},
   "source": [
    "- On trace un histogramme afin de voir la répartition des valeurs de la cible \"target\""
   ]
  },
  {
   "cell_type": "code",
   "execution_count": 3,
   "metadata": {},
   "outputs": [
    {
     "data": {
      "image/png": "[encoded data removed]",
      "text/plain": [
       "<matplotlib.figure.Figure at 0xa770d30>"
      ]
     },
     "metadata": {},
     "output_type": "display_data"
    }
   ],
   "source": [
    "fig = plt.figure(figsize =(10, 5))\n",
    "ax = fig.add_subplot(111)\n",
    "ax.hist(df_train['target'], bins=100);\n",
    "ax.set_xlabel(\"target\");\n",
    "ax.set_title(\"Histogramme de la variable target\")\n",
    "plt.show()"
   ]
  },
  {
   "cell_type": "markdown",
   "metadata": {},
   "source": [
    "- Le même graphique en version interactive avec Bokeh"
   ]
  },
  {
   "cell_type": "code",
   "execution_count": null,
   "metadata": {
    "collapsed": true
   },
   "outputs": [],
   "source": [
    "histogram, edges = np.histogram(df_train[\"target\"], bins = 50)\n",
    "\n",
    "source = ColumnDataSource(data=dict(histogram = histogram, left = edges[:-1], right = edges[1:]))\n",
    "\n",
    "p = figure(plot_width = 600, plot_height = 300, \n",
    "           title = \"Distribution de la variable target dans le fichier train\",\n",
    "          x_axis_label = \"target\")\n",
    "p.quad(top = \"histogram\", bottom = 0, left = \"left\", right = \"right\", fill_color = \"green\", \n",
    "      hover_fill_color = \"red\", source = source)\n",
    "hover = HoverTool(tooltips = [(\"nb de card_id\", \"@histogram\"),(\"target\", \"$x\")])\n",
    "p.add_tools(hover)\n",
    "show(p)"
   ]
  },
  {
   "cell_type": "markdown",
   "metadata": {},
   "source": [
    "- On regarde la répartition des variables catégorielles anonymisées feature_1, feature_2 et feature_3 grâce à des diagrammes en barres."
   ]
  },
  {
   "cell_type": "code",
   "execution_count": 4,
   "metadata": {},
   "outputs": [
    {
     "data": {
      "image/png": "[encoded data removed]",
      "text/plain": [
       "<matplotlib.figure.Figure at 0xaea48d0>"
      ]
     },
     "metadata": {},
     "output_type": "display_data"
    }
   ],
   "source": [
    "fig = plt.figure(figsize = (12,16))\n",
    "ax1 = fig.add_subplot(321)\n",
    "sns.countplot(x = \"feature_1\", hue = \"feature_3\", data = df_train, ax = ax1);\n",
    "ax1.set_title(\"Feature_1 en fonction de feature_3\");\n",
    "\n",
    "ax2 = fig.add_subplot(322)\n",
    "sns.countplot(x = \"feature_1\", hue = \"feature_2\", data = df_train, ax = ax2);\n",
    "ax2.set_title(\"Feature_1 en fonction de feature_2\");\n",
    "\n",
    "ax3 = fig.add_subplot(323)\n",
    "sns.countplot(x = \"feature_2\", hue = \"feature_3\", data = df_train, ax = ax3);\n",
    "ax3.set_title(\"Feature_2 en fonction de feature_3\");\n",
    "\n",
    "ax4 = fig.add_subplot(324)\n",
    "sns.countplot(x = \"feature_2\", hue = \"feature_1\", data = df_train, ax = ax4);\n",
    "ax4.set_title(\"Feature_2 en fonction de feature_1\");\n",
    "\n",
    "ax5 = fig.add_subplot(325)\n",
    "sns.countplot(x = \"feature_3\", hue = \"feature_1\", data = df_train, ax = ax5);\n",
    "ax5.set_title(\"Feature_3 en fonction de feature_1\");\n",
    "\n",
    "ax6 = fig.add_subplot(326)\n",
    "sns.countplot(x = \"feature_3\", hue = \"feature_2\", data = df_train, ax = ax6);\n",
    "ax6.set_title(\"Feature_3 en fonction de feature_2\");\n",
    "\n",
    "plt.show()\n"
   ]
  },
  {
   "cell_type": "markdown",
   "metadata": {},
   "source": [
    "On constate que les features 1 et 3 sont redondantes : si on connait la feature_1, on connait la feature_3."
   ]
  },
  {
   "cell_type": "markdown",
   "metadata": {},
   "source": [
    "### Valeurs aberrantes"
   ]
  },
  {
   "cell_type": "markdown",
   "metadata": {},
   "source": [
    "On constate la présence de 2207 card_id qui ont un score de fidélité à -33. A quoi cette valeur correspond-elle ? "
   ]
  },
  {
   "cell_type": "code",
   "execution_count": 23,
   "metadata": {},
   "outputs": [
    {
     "data": {
      "text/html": [
       "<div>\n",
       "<style>\n",
       "    .dataframe thead tr:only-child th {\n",
       "        text-align: right;\n",
       "    }\n",
       "\n",
       "    .dataframe thead th {\n",
       "        text-align: left;\n",
       "    }\n",
       "\n",
       "    .dataframe tbody tr th {\n",
       "        vertical-align: top;\n",
       "    }\n",
       "</style>\n",
       "<table border=\"1\" class=\"dataframe\">\n",
       "  <thead>\n",
       "    <tr style=\"text-align: right;\">\n",
       "      <th></th>\n",
       "      <th>first_active_month</th>\n",
       "      <th>card_id</th>\n",
       "      <th>feature_1</th>\n",
       "      <th>feature_2</th>\n",
       "      <th>feature_3</th>\n",
       "      <th>target</th>\n",
       "    </tr>\n",
       "  </thead>\n",
       "  <tbody>\n",
       "    <tr>\n",
       "      <th>64</th>\n",
       "      <td>2017-09</td>\n",
       "      <td>C_ID_8186f3fcc1</td>\n",
       "      <td>3</td>\n",
       "      <td>1</td>\n",
       "      <td>1</td>\n",
       "      <td>-33.219281</td>\n",
       "    </tr>\n",
       "    <tr>\n",
       "      <th>92</th>\n",
       "      <td>2015-05</td>\n",
       "      <td>C_ID_b9379a30ea</td>\n",
       "      <td>3</td>\n",
       "      <td>3</td>\n",
       "      <td>1</td>\n",
       "      <td>-33.219281</td>\n",
       "    </tr>\n",
       "    <tr>\n",
       "      <th>125</th>\n",
       "      <td>2015-10</td>\n",
       "      <td>C_ID_e9120f535c</td>\n",
       "      <td>3</td>\n",
       "      <td>3</td>\n",
       "      <td>1</td>\n",
       "      <td>-33.219281</td>\n",
       "    </tr>\n",
       "    <tr>\n",
       "      <th>151</th>\n",
       "      <td>2017-03</td>\n",
       "      <td>C_ID_65715cb80d</td>\n",
       "      <td>4</td>\n",
       "      <td>2</td>\n",
       "      <td>0</td>\n",
       "      <td>-33.219281</td>\n",
       "    </tr>\n",
       "    <tr>\n",
       "      <th>225</th>\n",
       "      <td>2017-01</td>\n",
       "      <td>C_ID_ae77d244b6</td>\n",
       "      <td>2</td>\n",
       "      <td>1</td>\n",
       "      <td>0</td>\n",
       "      <td>-33.219281</td>\n",
       "    </tr>\n",
       "  </tbody>\n",
       "</table>\n",
       "</div>"
      ],
      "text/plain": [
       "    first_active_month          card_id  feature_1  feature_2  feature_3  \\\n",
       "64             2017-09  C_ID_8186f3fcc1          3          1          1   \n",
       "92             2015-05  C_ID_b9379a30ea          3          3          1   \n",
       "125            2015-10  C_ID_e9120f535c          3          3          1   \n",
       "151            2017-03  C_ID_65715cb80d          4          2          0   \n",
       "225            2017-01  C_ID_ae77d244b6          2          1          0   \n",
       "\n",
       "        target  \n",
       "64  -33.219281  \n",
       "92  -33.219281  \n",
       "125 -33.219281  \n",
       "151 -33.219281  \n",
       "225 -33.219281  "
      ]
     },
     "execution_count": 23,
     "metadata": {},
     "output_type": "execute_result"
    }
   ],
   "source": [
    "df_train_ab = df_train[df_train[\"target\"] < -20]\n",
    "df_train_ab.head()"
   ]
  },
  {
   "cell_type": "markdown",
   "metadata": {},
   "source": [
    "Ce ne sont pas toujours les mêmes variables, il faudra donc aller voir dans les fichiers historical et new_merchant_transactions. On récupère dans une liste les card_id aberrantes, *my_card_id_ab*"
   ]
  },
  {
   "cell_type": "code",
   "execution_count": 24,
   "metadata": {
    "collapsed": true
   },
   "outputs": [],
   "source": [
    "my_card_id_ab = list(df_train_ab[\"card_id\"])"
   ]
  },
  {
   "cell_type": "markdown",
   "metadata": {},
   "source": [
    "## Le document test\n"
   ]
  },
  {
   "cell_type": "code",
   "execution_count": null,
   "metadata": {
    "collapsed": true
   },
   "outputs": [],
   "source": [
    "df_test = pd.read_csv(\"test.csv\")"
   ]
  },
  {
   "cell_type": "code",
   "execution_count": null,
   "metadata": {
    "collapsed": true
   },
   "outputs": [],
   "source": [
    "df_test.shape"
   ]
  },
  {
   "cell_type": "markdown",
   "metadata": {},
   "source": [
    "## Le fichier transactions_reduced "
   ]
  },
  {
   "cell_type": "markdown",
   "metadata": {},
   "source": [
    "Il se compose des colonnes my_columns pour les card_id du fichier train, et possède les informations des fichiers historical et new_merchants"
   ]
  },
  {
   "cell_type": "code",
   "execution_count": 4,
   "metadata": {
    "collapsed": true
   },
   "outputs": [],
   "source": [
    "my_columns = [\"authorized_flag\", \"card_id\", \"installments\", \"merchant_id\", \"purchase_amount\", \"purchase_date\"]\n",
    "other_columns = [\"month_lag\", \"category_3\", \"category_1\", \"merchant_category_id\", \"subsector_id\", \"city_id\", \"state_id\", \"category_2\"]"
   ]
  },
  {
   "cell_type": "code",
   "execution_count": 5,
   "metadata": {},
   "outputs": [
    {
     "data": {
      "text/html": [
       "<div>\n",
       "<style>\n",
       "    .dataframe thead tr:only-child th {\n",
       "        text-align: right;\n",
       "    }\n",
       "\n",
       "    .dataframe thead th {\n",
       "        text-align: left;\n",
       "    }\n",
       "\n",
       "    .dataframe tbody tr th {\n",
       "        vertical-align: top;\n",
       "    }\n",
       "</style>\n",
       "<table border=\"1\" class=\"dataframe\">\n",
       "  <thead>\n",
       "    <tr style=\"text-align: right;\">\n",
       "      <th></th>\n",
       "      <th>authorized_flag</th>\n",
       "      <th>card_id</th>\n",
       "      <th>installments</th>\n",
       "      <th>merchant_id</th>\n",
       "      <th>purchase_amount</th>\n",
       "      <th>purchase_date</th>\n",
       "    </tr>\n",
       "  </thead>\n",
       "  <tbody>\n",
       "    <tr>\n",
       "      <th>0</th>\n",
       "      <td>Y</td>\n",
       "      <td>C_ID_732dcdbb46</td>\n",
       "      <td>-1</td>\n",
       "      <td>M_ID_55300fd4d0</td>\n",
       "      <td>0.282408</td>\n",
       "      <td>2018-02-17 08:35:10</td>\n",
       "    </tr>\n",
       "    <tr>\n",
       "      <th>1</th>\n",
       "      <td>Y</td>\n",
       "      <td>C_ID_732dcdbb46</td>\n",
       "      <td>7</td>\n",
       "      <td>M_ID_c9855bf3e3</td>\n",
       "      <td>0.090174</td>\n",
       "      <td>2017-10-20 15:44:57</td>\n",
       "    </tr>\n",
       "    <tr>\n",
       "      <th>2</th>\n",
       "      <td>Y</td>\n",
       "      <td>C_ID_69082a8187</td>\n",
       "      <td>0</td>\n",
       "      <td>M_ID_820c7b73c8</td>\n",
       "      <td>-0.300711</td>\n",
       "      <td>2017-11-02 12:56:54</td>\n",
       "    </tr>\n",
       "    <tr>\n",
       "      <th>3</th>\n",
       "      <td>Y</td>\n",
       "      <td>C_ID_69082a8187</td>\n",
       "      <td>0</td>\n",
       "      <td>M_ID_0e0ffdbe2d</td>\n",
       "      <td>0.346436</td>\n",
       "      <td>2017-03-06 18:20:59</td>\n",
       "    </tr>\n",
       "    <tr>\n",
       "      <th>4</th>\n",
       "      <td>Y</td>\n",
       "      <td>C_ID_69082a8187</td>\n",
       "      <td>0</td>\n",
       "      <td>M_ID_022647a832</td>\n",
       "      <td>-0.629701</td>\n",
       "      <td>2017-03-06 16:16:10</td>\n",
       "    </tr>\n",
       "  </tbody>\n",
       "</table>\n",
       "</div>"
      ],
      "text/plain": [
       "  authorized_flag          card_id  installments      merchant_id  \\\n",
       "0               Y  C_ID_732dcdbb46            -1  M_ID_55300fd4d0   \n",
       "1               Y  C_ID_732dcdbb46             7  M_ID_c9855bf3e3   \n",
       "2               Y  C_ID_69082a8187             0  M_ID_820c7b73c8   \n",
       "3               Y  C_ID_69082a8187             0  M_ID_0e0ffdbe2d   \n",
       "4               Y  C_ID_69082a8187             0  M_ID_022647a832   \n",
       "\n",
       "   purchase_amount        purchase_date  \n",
       "0         0.282408  2018-02-17 08:35:10  \n",
       "1         0.090174  2017-10-20 15:44:57  \n",
       "2        -0.300711  2017-11-02 12:56:54  \n",
       "3         0.346436  2017-03-06 18:20:59  \n",
       "4        -0.629701  2017-03-06 16:16:10  "
      ]
     },
     "execution_count": 5,
     "metadata": {},
     "output_type": "execute_result"
    }
   ],
   "source": [
    "df_tr = pd.read_csv(\"transactions_reduced.csv\", usecols = my_columns)\n",
    "df_tr.head()"
   ]
  },
  {
   "cell_type": "markdown",
   "metadata": {},
   "source": [
    "### Exploration "
   ]
  },
  {
   "cell_type": "markdown",
   "metadata": {},
   "source": [
    "- Le fichier comporte-t-il des valeurs manquantes ?"
   ]
  },
  {
   "cell_type": "code",
   "execution_count": 6,
   "metadata": {},
   "outputs": [
    {
     "data": {
      "text/plain": [
       "authorized_flag         0\n",
       "card_id                 0\n",
       "installments            0\n",
       "merchant_id        102297\n",
       "purchase_amount         0\n",
       "purchase_date           0\n",
       "dtype: int64"
      ]
     },
     "execution_count": 6,
     "metadata": {},
     "output_type": "execute_result"
    }
   ],
   "source": [
    "pd.isnull(df_tr).sum()"
   ]
  },
  {
   "cell_type": "markdown",
   "metadata": {},
   "source": [
    "Certaines valeurs de merchant_id sont manquantes."
   ]
  },
  {
   "cell_type": "code",
   "execution_count": 7,
   "metadata": {},
   "outputs": [
    {
     "data": {
      "text/html": [
       "<div>\n",
       "<style>\n",
       "    .dataframe thead tr:only-child th {\n",
       "        text-align: right;\n",
       "    }\n",
       "\n",
       "    .dataframe thead th {\n",
       "        text-align: left;\n",
       "    }\n",
       "\n",
       "    .dataframe tbody tr th {\n",
       "        vertical-align: top;\n",
       "    }\n",
       "</style>\n",
       "<table border=\"1\" class=\"dataframe\">\n",
       "  <thead>\n",
       "    <tr style=\"text-align: right;\">\n",
       "      <th></th>\n",
       "      <th>installments</th>\n",
       "      <th>purchase_amount</th>\n",
       "    </tr>\n",
       "  </thead>\n",
       "  <tbody>\n",
       "    <tr>\n",
       "      <th>count</th>\n",
       "      <td>1.924969e+07</td>\n",
       "      <td>1.924969e+07</td>\n",
       "    </tr>\n",
       "    <tr>\n",
       "      <th>mean</th>\n",
       "      <td>6.501107e-01</td>\n",
       "      <td>1.163292e-01</td>\n",
       "    </tr>\n",
       "    <tr>\n",
       "      <th>std</th>\n",
       "      <td>2.632253e+00</td>\n",
       "      <td>1.377398e+03</td>\n",
       "    </tr>\n",
       "    <tr>\n",
       "      <th>min</th>\n",
       "      <td>-1.000000e+00</td>\n",
       "      <td>-7.469078e-01</td>\n",
       "    </tr>\n",
       "    <tr>\n",
       "      <th>25%</th>\n",
       "      <td>0.000000e+00</td>\n",
       "      <td>-7.199352e-01</td>\n",
       "    </tr>\n",
       "    <tr>\n",
       "      <th>50%</th>\n",
       "      <td>0.000000e+00</td>\n",
       "      <td>-6.875531e-01</td>\n",
       "    </tr>\n",
       "    <tr>\n",
       "      <th>75%</th>\n",
       "      <td>1.000000e+00</td>\n",
       "      <td>-6.011055e-01</td>\n",
       "    </tr>\n",
       "    <tr>\n",
       "      <th>max</th>\n",
       "      <td>9.990000e+02</td>\n",
       "      <td>6.010604e+06</td>\n",
       "    </tr>\n",
       "  </tbody>\n",
       "</table>\n",
       "</div>"
      ],
      "text/plain": [
       "       installments  purchase_amount\n",
       "count  1.924969e+07     1.924969e+07\n",
       "mean   6.501107e-01     1.163292e-01\n",
       "std    2.632253e+00     1.377398e+03\n",
       "min   -1.000000e+00    -7.469078e-01\n",
       "25%    0.000000e+00    -7.199352e-01\n",
       "50%    0.000000e+00    -6.875531e-01\n",
       "75%    1.000000e+00    -6.011055e-01\n",
       "max    9.990000e+02     6.010604e+06"
      ]
     },
     "execution_count": 7,
     "metadata": {},
     "output_type": "execute_result"
    }
   ],
   "source": [
    "df_tr.describe()"
   ]
  },
  {
   "cell_type": "code",
   "execution_count": 10,
   "metadata": {},
   "outputs": [
    {
     "name": "stdout",
     "output_type": "stream",
     "text": [
      "<class 'pandas.core.frame.DataFrame'>\n",
      "RangeIndex: 19249694 entries, 0 to 19249693\n",
      "Data columns (total 6 columns):\n",
      "authorized_flag    object\n",
      "card_id            object\n",
      "installments       int64\n",
      "merchant_id        object\n",
      "purchase_amount    float64\n",
      "purchase_date      object\n",
      "dtypes: float64(1), int64(1), object(4)\n",
      "memory usage: 881.2+ MB\n"
     ]
    }
   ],
   "source": [
    "df_tr.info()"
   ]
  },
  {
   "cell_type": "markdown",
   "metadata": {},
   "source": [
    "- Comment se répartissent les montants dépensés ?"
   ]
  },
  {
   "cell_type": "code",
   "execution_count": 16,
   "metadata": {},
   "outputs": [
    {
     "data": {
      "text/html": [
       "\n",
       "\n",
       "    <div class=\"bk-root\">\n",
       "        <div class=\"bk-plotdiv\" id=\"7d88769e-4503-48b6-9021-d317731bae30\"></div>\n",
       "    </div>\n",
       "<script type=\"text/javascript\">\n",
       "  \n",
       "  (function(global) {\n",
       "    function now() {\n",
       "      return new Date();\n",
       "    }\n",
       "  \n",
       "    var force = false;\n",
       "  \n",
       "    if (typeof (window._bokeh_onload_callbacks) === \"undefined\" || force === true) {\n",
       "      window._bokeh_onload_callbacks = [];\n",
       "      window._bokeh_is_loading = undefined;\n",
       "    }\n",
       "  \n",
       "  \n",
       "    \n",
       "    if (typeof (window._bokeh_timeout) === \"undefined\" || force === true) {\n",
       "      window._bokeh_timeout = Date.now() + 0;\n",
       "      window._bokeh_failed_load = false;\n",
       "    }\n",
       "  \n",
       "    var NB_LOAD_WARNING = {'data': {'text/html':\n",
       "       \"<div style='background-color: #fdd'>\\n\"+\n",
       "       \"<p>\\n\"+\n",
       "       \"BokehJS does not appear to have successfully loaded. If loading BokehJS from CDN, this \\n\"+\n",
       "       \"may be due to a slow or bad network connection. Possible fixes:\\n\"+\n",
       "       \"</p>\\n\"+\n",
       "       \"<ul>\\n\"+\n",
       "       \"<li>re-rerun `output_notebook()` to attempt to load from CDN again, or</li>\\n\"+\n",
       "       \"<li>use INLINE resources instead, as so:</li>\\n\"+\n",
       "       \"</ul>\\n\"+\n",
       "       \"<code>\\n\"+\n",
       "       \"from bokeh.resources import INLINE\\n\"+\n",
       "       \"output_notebook(resources=INLINE)\\n\"+\n",
       "       \"</code>\\n\"+\n",
       "       \"</div>\"}};\n",
       "  \n",
       "    function display_loaded() {\n",
       "      if (window.Bokeh !== undefined) {\n",
       "        var el = document.getElementById(\"7d88769e-4503-48b6-9021-d317731bae30\");\n",
       "        el.textContent = \"BokehJS \" + Bokeh.version + \" successfully loaded.\";\n",
       "      } else if (Date.now() < window._bokeh_timeout) {\n",
       "        setTimeout(display_loaded, 100)\n",
       "      }\n",
       "    }\n",
       "  \n",
       "    function run_callbacks() {\n",
       "      window._bokeh_onload_callbacks.forEach(function(callback) { callback() });\n",
       "      delete window._bokeh_onload_callbacks\n",
       "      console.info(\"Bokeh: all callbacks have finished\");\n",
       "    }\n",
       "  \n",
       "    function load_libs(js_urls, callback) {\n",
       "      window._bokeh_onload_callbacks.push(callback);\n",
       "      if (window._bokeh_is_loading > 0) {\n",
       "        console.log(\"Bokeh: BokehJS is being loaded, scheduling callback at\", now());\n",
       "        return null;\n",
       "      }\n",
       "      if (js_urls == null || js_urls.length === 0) {\n",
       "        run_callbacks();\n",
       "        return null;\n",
       "      }\n",
       "      console.log(\"Bokeh: BokehJS not loaded, scheduling load and callback at\", now());\n",
       "      window._bokeh_is_loading = js_urls.length;\n",
       "      for (var i = 0; i < js_urls.length; i++) {\n",
       "        var url = js_urls[i];\n",
       "        var s = document.createElement('script');\n",
       "        s.src = url;\n",
       "        s.async = false;\n",
       "        s.onreadystatechange = s.onload = function() {\n",
       "          window._bokeh_is_loading--;\n",
       "          if (window._bokeh_is_loading === 0) {\n",
       "            console.log(\"Bokeh: all BokehJS libraries loaded\");\n",
       "            run_callbacks()\n",
       "          }\n",
       "        };\n",
       "        s.onerror = function() {\n",
       "          console.warn(\"failed to load library \" + url);\n",
       "        };\n",
       "        console.log(\"Bokeh: injecting script tag for BokehJS library: \", url);\n",
       "        document.getElementsByTagName(\"head\")[0].appendChild(s);\n",
       "      }\n",
       "    };var element = document.getElementById(\"7d88769e-4503-48b6-9021-d317731bae30\");\n",
       "    if (element == null) {\n",
       "      console.log(\"Bokeh: ERROR: autoload.js configured with elementid '7d88769e-4503-48b6-9021-d317731bae30' but no matching script tag was found. \")\n",
       "      return false;\n",
       "    }\n",
       "  \n",
       "    var js_urls = [];\n",
       "  \n",
       "    var inline_js = [\n",
       "      function(Bokeh) {\n",
       "        (function() {\n",
       "          var fn = function() {\n",
       "            var docs_json = {\"6a4fb6c0-4f64-4511-853e-3c7e093aeebf\":{\"roots\":{\"references\":[{\"attributes\":{\"below\":[{\"id\":\"4bd54f75-cb19-4165-aa89-4da78c3eb1ec\",\"type\":\"LinearAxis\"}],\"left\":[{\"id\":\"6b13b7ce-8717-4195-9ab6-adf3ffdb321a\",\"type\":\"LinearAxis\"}],\"plot_height\":300,\"renderers\":[{\"id\":\"4bd54f75-cb19-4165-aa89-4da78c3eb1ec\",\"type\":\"LinearAxis\"},{\"id\":\"f24e5d19-18fa-47bf-a69a-8e1c94065535\",\"type\":\"Grid\"},{\"id\":\"6b13b7ce-8717-4195-9ab6-adf3ffdb321a\",\"type\":\"LinearAxis\"},{\"id\":\"db2fcd5c-946d-41d1-89e6-26c06037ccb4\",\"type\":\"Grid\"},{\"id\":\"dc56ace3-31b9-449a-af4d-39b3c8a7f3cb\",\"type\":\"BoxAnnotation\"},{\"id\":\"58197c44-333e-4459-be07-8d0b36d9dfbf\",\"type\":\"GlyphRenderer\"}],\"title\":{\"id\":\"dcab236b-5da7-4ec8-bfac-e91c79cc7ba2\",\"type\":\"Title\"},\"tool_events\":{\"id\":\"46561e39-a623-424b-99a8-3361543aca9f\",\"type\":\"ToolEvents\"},\"toolbar\":{\"id\":\"a97247f1-df0d-4281-933a-b7e5a7f92e0e\",\"type\":\"Toolbar\"},\"x_range\":{\"id\":\"6054526b-1861-4f49-a4a7-cc99b2799006\",\"type\":\"DataRange1d\"},\"y_range\":{\"id\":\"02f95cc6-3547-466d-a5f6-a964a530d9d9\",\"type\":\"DataRange1d\"}},\"id\":\"89038ea4-7fde-4ce9-836e-b7ff1cb7d722\",\"subtype\":\"Figure\",\"type\":\"Plot\"},{\"attributes\":{\"dimension\":1,\"plot\":{\"id\":\"89038ea4-7fde-4ce9-836e-b7ff1cb7d722\",\"subtype\":\"Figure\",\"type\":\"Plot\"},\"ticker\":{\"id\":\"cfd24fdd-8637-4cd2-988f-a891309665f6\",\"type\":\"BasicTicker\"}},\"id\":\"db2fcd5c-946d-41d1-89e6-26c06037ccb4\",\"type\":\"Grid\"},{\"attributes\":{\"bottom\":{\"value\":0},\"fill_color\":{\"value\":\"green\"},\"left\":{\"field\":\"left\"},\"line_color\":{\"value\":\"#1f77b4\"},\"right\":{\"field\":\"right\"},\"top\":{\"field\":\"histogram\"}},\"id\":\"386fe8c1-4a14-4753-ad2f-c039ab6a80e8\",\"type\":\"Quad\"},{\"attributes\":{\"bottom\":{\"value\":0},\"fill_color\":{\"value\":\"red\"},\"left\":{\"field\":\"left\"},\"line_color\":{\"value\":\"#1f77b4\"},\"right\":{\"field\":\"right\"},\"top\":{\"field\":\"histogram\"}},\"id\":\"cde9c3eb-568d-44eb-8c78-c3c5e48041e1\",\"type\":\"Quad\"},{\"attributes\":{},\"id\":\"cfd24fdd-8637-4cd2-988f-a891309665f6\",\"type\":\"BasicTicker\"},{\"attributes\":{\"active_drag\":\"auto\",\"active_scroll\":\"auto\",\"active_tap\":\"auto\",\"tools\":[{\"id\":\"135c3aa9-3f4e-4b57-b2a4-b84a99c41bf1\",\"type\":\"PanTool\"},{\"id\":\"e2df01dc-4f00-4677-a96d-b2de189dfaca\",\"type\":\"WheelZoomTool\"},{\"id\":\"013c9c48-b30e-4f46-80ac-ae6b77a42d2c\",\"type\":\"BoxZoomTool\"},{\"id\":\"808592d9-6ddc-4300-99b3-a5c919ffc6f4\",\"type\":\"SaveTool\"},{\"id\":\"9362739b-9540-4f48-8764-b19a3e383e59\",\"type\":\"ResetTool\"},{\"id\":\"cd03271d-b0ad-47af-9030-b918d738be0a\",\"type\":\"HelpTool\"},{\"id\":\"12d2b445-d9a8-4d44-bfa0-b2fb11ed94f5\",\"type\":\"HoverTool\"}]},\"id\":\"a97247f1-df0d-4281-933a-b7e5a7f92e0e\",\"type\":\"Toolbar\"},{\"attributes\":{},\"id\":\"dc9a7301-9b95-468b-b60d-1edb329a2085\",\"type\":\"BasicTicker\"},{\"attributes\":{\"formatter\":{\"id\":\"6e8a50c6-06f6-4c62-9337-e7fa7d1905f2\",\"type\":\"BasicTickFormatter\"},\"plot\":{\"id\":\"89038ea4-7fde-4ce9-836e-b7ff1cb7d722\",\"subtype\":\"Figure\",\"type\":\"Plot\"},\"ticker\":{\"id\":\"cfd24fdd-8637-4cd2-988f-a891309665f6\",\"type\":\"BasicTicker\"}},\"id\":\"6b13b7ce-8717-4195-9ab6-adf3ffdb321a\",\"type\":\"LinearAxis\"},{\"attributes\":{\"plot\":{\"id\":\"89038ea4-7fde-4ce9-836e-b7ff1cb7d722\",\"subtype\":\"Figure\",\"type\":\"Plot\"},\"ticker\":{\"id\":\"dc9a7301-9b95-468b-b60d-1edb329a2085\",\"type\":\"BasicTicker\"}},\"id\":\"f24e5d19-18fa-47bf-a69a-8e1c94065535\",\"type\":\"Grid\"},{\"attributes\":{\"bottom\":{\"value\":0},\"fill_alpha\":{\"value\":0.1},\"fill_color\":{\"value\":\"#1f77b4\"},\"left\":{\"field\":\"left\"},\"line_alpha\":{\"value\":0.1},\"line_color\":{\"value\":\"#1f77b4\"},\"right\":{\"field\":\"right\"},\"top\":{\"field\":\"histogram\"}},\"id\":\"6abb3934-c4cb-4aa2-8c9a-52207987761c\",\"type\":\"Quad\"},{\"attributes\":{\"callback\":null},\"id\":\"02f95cc6-3547-466d-a5f6-a964a530d9d9\",\"type\":\"DataRange1d\"},{\"attributes\":{\"axis_label\":\"purchase_amount\",\"formatter\":{\"id\":\"85aad486-c21f-4cc2-a9cf-346b1d294060\",\"type\":\"BasicTickFormatter\"},\"plot\":{\"id\":\"89038ea4-7fde-4ce9-836e-b7ff1cb7d722\",\"subtype\":\"Figure\",\"type\":\"Plot\"},\"ticker\":{\"id\":\"dc9a7301-9b95-468b-b60d-1edb329a2085\",\"type\":\"BasicTicker\"}},\"id\":\"4bd54f75-cb19-4165-aa89-4da78c3eb1ec\",\"type\":\"LinearAxis\"},{\"attributes\":{\"plot\":null,\"text\":\"Distribution de la variable purchase_amount dans le fichier transactions\"},\"id\":\"dcab236b-5da7-4ec8-bfac-e91c79cc7ba2\",\"type\":\"Title\"},{\"attributes\":{},\"id\":\"46561e39-a623-424b-99a8-3361543aca9f\",\"type\":\"ToolEvents\"},{\"attributes\":{\"callback\":null},\"id\":\"6054526b-1861-4f49-a4a7-cc99b2799006\",\"type\":\"DataRange1d\"},{\"attributes\":{\"data_source\":{\"id\":\"7009f850-db29-4332-b993-c81b1f52b211\",\"type\":\"ColumnDataSource\"},\"glyph\":{\"id\":\"386fe8c1-4a14-4753-ad2f-c039ab6a80e8\",\"type\":\"Quad\"},\"hover_glyph\":{\"id\":\"cde9c3eb-568d-44eb-8c78-c3c5e48041e1\",\"type\":\"Quad\"},\"muted_glyph\":null,\"nonselection_glyph\":{\"id\":\"6abb3934-c4cb-4aa2-8c9a-52207987761c\",\"type\":\"Quad\"},\"selection_glyph\":null},\"id\":\"58197c44-333e-4459-be07-8d0b36d9dfbf\",\"type\":\"GlyphRenderer\"},{\"attributes\":{\"bottom_units\":\"screen\",\"fill_alpha\":{\"value\":0.5},\"fill_color\":{\"value\":\"lightgrey\"},\"left_units\":\"screen\",\"level\":\"overlay\",\"line_alpha\":{\"value\":1.0},\"line_color\":{\"value\":\"black\"},\"line_dash\":[4,4],\"line_width\":{\"value\":2},\"plot\":null,\"render_mode\":\"css\",\"right_units\":\"screen\",\"top_units\":\"screen\"},\"id\":\"dc56ace3-31b9-449a-af4d-39b3c8a7f3cb\",\"type\":\"BoxAnnotation\"},{\"attributes\":{\"plot\":{\"id\":\"89038ea4-7fde-4ce9-836e-b7ff1cb7d722\",\"subtype\":\"Figure\",\"type\":\"Plot\"}},\"id\":\"135c3aa9-3f4e-4b57-b2a4-b84a99c41bf1\",\"type\":\"PanTool\"},{\"attributes\":{},\"id\":\"6e8a50c6-06f6-4c62-9337-e7fa7d1905f2\",\"type\":\"BasicTickFormatter\"},{\"attributes\":{\"callback\":null,\"column_names\":[\"histogram\",\"left\",\"right\"],\"data\":{\"histogram\":[2864218,3580848,2470778,1688403,1499495,877475,796056,516732,674139,371646,346047,295175,339005,224962,195088,188777,146261,189950,127127,100215,90060,95991,72323,67386,69933,87492,44608,49080,42891,39615,54235,33555,34305,31198,47189,24871,28705,22998,27013,20742,18911,21212,20286,36268,16001,14732,15097,17103,13451,14847,11675,24128,9934,10087,10346,14299,9179,8579,9069,8328,17924,8986,7279,7114,9331,6920,6441,7596,14665,5293,5649,5158,6637,7302,4708,5180,4844,10093,4000,4580,3858,5029,3979,3771,3932,6271,18042,3367,3082,3189,3746,2951,3565,2824,6242,2705,2570,3151,3387,2500],\"left\":{\"__ndarray__\":\"6hLEL6vm578Rzik0kFfnvziJjzh1yOa/XkT1PFo55r+F/1pBP6rlv6y6wEUkG+W/03UmSgmM5L/6MIxO7vzjvyDs8VLTbeO/R6dXV7je4r9uYr1bnU/iv5UdI2CCwOG/vNiIZGcx4b/ik+5oTKLgvwpPVG0xE+C/YBR04ywI37+uij/s9undv/wAC/XAy9y/SXfW/Yqt27+X7aEGVY/av+RjbQ8fcdm/Mto4GOlS2L+AUAQhszTXv83Gzyl9Fta/Gz2bMkf41L9ps2Y7EdrTv7YpMkTbu9K/BKD9TKWd0b9SFslVb3/Qv0AZKb1yws6/2AXAzgaGzL908lbgmknKvxDf7fEuDci/rMuEA8PQxb9IuBsVV5TDv+CksibrV8G/+CKTcP42vr8w/MCTJr65v2jV7rZORbW/oK4c2nbMsL+gD5X6PaeovyCE4YEca5+/ANIxHXoPi7+AyL6SiW5xP0BN+NcBP5Y/MHSgpTARpD/QwURf4AKtP7CHdAxI+rI/eK5G6R9ztz9A1RjG9+u7PwR+ddFnMsA/bJHev9Nuwj/QpEeuP6vEPzS4sJyr58Y/mMsZixckyT/83oJ5g2DLP2Dy62fvnM0/yAVVVlvZzz+UDF+i4wrRP0iWk5kZKdI//B/IkE9H0z+sqfyHhWXUP2AzMX+7g9U/EL1ldvGh1j/ERpptJ8DXP3jQzmRd3tg/KFoDXJP82T/c4zdTyRrbP4xtbEr/ONw/QPegQTVX3T/0gNU4a3XeP6QKCjChk98/LEqfk+tY4D8EjzmPBujgP97T04ohd+E/uBhuhjwG4j+QXQiCV5XiP2qion1yJOM/Quc8eY2z4z8cLNd0qELkP/ZwcXDD0eQ/zrULbN5g5T+o+qVn+e/lP4A/QGMUf+Y/WoTaXi8O5z8yyXRaSp3nPwwOD1ZlLOg/5lKpUYC76D++l0NNm0rpP5jc3Ui22ek/cCF4RNFo6j9KZhJA7PfqPySrrDsHh+s//O9GNyIW7D/WNOEyPaXsP655ey5YNO0/iL4VKnPD7T9iA7AljlLuPzpISiGp4e4/FI3kHMRw7z8=\",\"dtype\":\"float64\",\"shape\":[100]},\"right\":{\"__ndarray__\":\"Ec4pNJBX5784iY84dcjmv15E9TxaOea/hf9aQT+q5b+susBFJBvlv9N1JkoJjOS/+jCMTu78478g7PFS023jv0enV1e43uK/bmK9W51P4r+VHSNggsDhv7zYiGRnMeG/4pPuaEyi4L8KT1RtMRPgv2AUdOMsCN+/roo/7Pbp3b/8AAv1wMvcv0l31v2Krdu/l+2hBlWP2r/kY20PH3HZvzLaOBjpUti/gFAEIbM017/Nxs8pfRbWvxs9mzJH+NS/abNmOxHa07+2KTJE27vSvwSg/UylndG/UhbJVW9/0L9AGSm9csLOv9gFwM4Ghsy/dPJW4JpJyr8Q3+3xLg3Iv6zLhAPD0MW/SLgbFVeUw7/gpLIm61fBv/gik3D+Nr6/MPzAkya+ub9o1e62TkW1v6CuHNp2zLC/oA+V+j2nqL8ghOGBHGufvwDSMR16D4u/gMi+kolucT9ATfjXAT+WPzB0oKUwEaQ/0MFEX+ACrT+wh3QMSPqyP3iuRukfc7c/QNUYxvfruz8EfnXRZzLAP2yR3r/TbsI/0KRHrj+rxD80uLCcq+fGP5jLGYsXJMk//N6CeYNgyz9g8utn75zNP8gFVVZb2c8/lAxfouMK0T9IlpOZGSnSP/wfyJBPR9M/rKn8h4Vl1D9gMzF/u4PVPxC9ZXbxodY/xEaabSfA1z940M5kXd7YPyhaA1yT/Nk/3OM3U8ka2z+MbWxK/zjcP0D3oEE1V90/9IDVOGt13j+kCgowoZPfPyxKn5PrWOA/BI85jwbo4D/e09OKIXfhP7gYboY8BuI/kF0IgleV4j9qoqJ9ciTjP0LnPHmNs+M/HCzXdKhC5D/2cHFww9HkP861C2zeYOU/qPqlZ/nv5T+AP0BjFH/mP1qE2l4vDuc/Msl0Wkqd5z8MDg9WZSzoP+ZSqVGAu+g/vpdDTZtK6T+Y3N1IttnpP3AheETRaOo/SmYSQOz36j8kq6w7B4frP/zvRjciFuw/1jThMj2l7D+ueXsuWDTtP4i+FSpzw+0/YgOwJY5S7j86SEohqeHuPxSN5BzEcO8/7dF+GN//7z8=\",\"dtype\":\"float64\",\"shape\":[100]}}},\"id\":\"7009f850-db29-4332-b993-c81b1f52b211\",\"type\":\"ColumnDataSource\"},{\"attributes\":{\"plot\":{\"id\":\"89038ea4-7fde-4ce9-836e-b7ff1cb7d722\",\"subtype\":\"Figure\",\"type\":\"Plot\"}},\"id\":\"e2df01dc-4f00-4677-a96d-b2de189dfaca\",\"type\":\"WheelZoomTool\"},{\"attributes\":{\"overlay\":{\"id\":\"dc56ace3-31b9-449a-af4d-39b3c8a7f3cb\",\"type\":\"BoxAnnotation\"},\"plot\":{\"id\":\"89038ea4-7fde-4ce9-836e-b7ff1cb7d722\",\"subtype\":\"Figure\",\"type\":\"Plot\"}},\"id\":\"013c9c48-b30e-4f46-80ac-ae6b77a42d2c\",\"type\":\"BoxZoomTool\"},{\"attributes\":{\"plot\":{\"id\":\"89038ea4-7fde-4ce9-836e-b7ff1cb7d722\",\"subtype\":\"Figure\",\"type\":\"Plot\"}},\"id\":\"808592d9-6ddc-4300-99b3-a5c919ffc6f4\",\"type\":\"SaveTool\"},{\"attributes\":{\"plot\":{\"id\":\"89038ea4-7fde-4ce9-836e-b7ff1cb7d722\",\"subtype\":\"Figure\",\"type\":\"Plot\"}},\"id\":\"9362739b-9540-4f48-8764-b19a3e383e59\",\"type\":\"ResetTool\"},{\"attributes\":{\"plot\":{\"id\":\"89038ea4-7fde-4ce9-836e-b7ff1cb7d722\",\"subtype\":\"Figure\",\"type\":\"Plot\"}},\"id\":\"cd03271d-b0ad-47af-9030-b918d738be0a\",\"type\":\"HelpTool\"},{\"attributes\":{\"callback\":null,\"plot\":{\"id\":\"89038ea4-7fde-4ce9-836e-b7ff1cb7d722\",\"subtype\":\"Figure\",\"type\":\"Plot\"},\"tooltips\":[[\"nb de transactions\",\"@histogram\"],[\"purchase_amount\",\"$x\"]]},\"id\":\"12d2b445-d9a8-4d44-bfa0-b2fb11ed94f5\",\"type\":\"HoverTool\"},{\"attributes\":{},\"id\":\"85aad486-c21f-4cc2-a9cf-346b1d294060\",\"type\":\"BasicTickFormatter\"}],\"root_ids\":[\"89038ea4-7fde-4ce9-836e-b7ff1cb7d722\"]},\"title\":\"Bokeh Application\",\"version\":\"0.12.5\"}};\n",
       "            var render_items = [{\"docid\":\"6a4fb6c0-4f64-4511-853e-3c7e093aeebf\",\"elementid\":\"7d88769e-4503-48b6-9021-d317731bae30\",\"modelid\":\"89038ea4-7fde-4ce9-836e-b7ff1cb7d722\"}];\n",
       "            \n",
       "            Bokeh.embed.embed_items(docs_json, render_items);\n",
       "          };\n",
       "          if (document.readyState != \"loading\") fn();\n",
       "          else document.addEventListener(\"DOMContentLoaded\", fn);\n",
       "        })();\n",
       "      },\n",
       "      function(Bokeh) {\n",
       "      }\n",
       "    ];\n",
       "  \n",
       "    function run_inline_js() {\n",
       "      \n",
       "      if ((window.Bokeh !== undefined) || (force === true)) {\n",
       "        for (var i = 0; i < inline_js.length; i++) {\n",
       "          inline_js[i](window.Bokeh);\n",
       "        }if (force === true) {\n",
       "          display_loaded();\n",
       "        }} else if (Date.now() < window._bokeh_timeout) {\n",
       "        setTimeout(run_inline_js, 100);\n",
       "      } else if (!window._bokeh_failed_load) {\n",
       "        console.log(\"Bokeh: BokehJS failed to load within specified timeout.\");\n",
       "        window._bokeh_failed_load = true;\n",
       "      } else if (force !== true) {\n",
       "        var cell = $(document.getElementById(\"7d88769e-4503-48b6-9021-d317731bae30\")).parents('.cell').data().cell;\n",
       "        cell.output_area.append_execute_result(NB_LOAD_WARNING)\n",
       "      }\n",
       "  \n",
       "    }\n",
       "  \n",
       "    if (window._bokeh_is_loading === 0) {\n",
       "      console.log(\"Bokeh: BokehJS loaded, going straight to plotting\");\n",
       "      run_inline_js();\n",
       "    } else {\n",
       "      load_libs(js_urls, function() {\n",
       "        console.log(\"Bokeh: BokehJS plotting callback run at\", now());\n",
       "        run_inline_js();\n",
       "      });\n",
       "    }\n",
       "  }(this));\n",
       "</script>"
      ]
     },
     "metadata": {},
     "output_type": "display_data"
    }
   ],
   "source": [
    "histogram, edges = np.histogram(df_tr[\"purchase_amount\"][df_tr[\"purchase_amount\"] < 1], bins = 100)\n",
    "\n",
    "source = ColumnDataSource(data=dict(histogram = histogram, left = edges[:-1], right = edges[1:]))\n",
    "\n",
    "p = figure(plot_width = 600, plot_height = 300, \n",
    "           title = \"Distribution de la variable purchase_amount dans le fichier transactions\",\n",
    "          x_axis_label = \"purchase_amount\")\n",
    "p.quad(top = \"histogram\", bottom = 0, left = \"left\", right = \"right\", fill_color = \"green\", \n",
    "      hover_fill_color = \"red\", source = source)\n",
    "hover = HoverTool(tooltips = [(\"nb de transactions\", \"@histogram\"),(\"purchase_amount\", \"$x\")])\n",
    "p.add_tools(hover)\n",
    "show(p)"
   ]
  },
  {
   "cell_type": "markdown",
   "metadata": {},
   "source": [
    "### Classification des clients en 6 catégories selon la méthode RFM"
   ]
  },
  {
   "cell_type": "code",
   "execution_count": 32,
   "metadata": {},
   "outputs": [
    {
     "data": {
      "text/html": [
       "<div>\n",
       "<style>\n",
       "    .dataframe thead tr:only-child th {\n",
       "        text-align: right;\n",
       "    }\n",
       "\n",
       "    .dataframe thead th {\n",
       "        text-align: left;\n",
       "    }\n",
       "\n",
       "    .dataframe tbody tr th {\n",
       "        vertical-align: top;\n",
       "    }\n",
       "</style>\n",
       "<table border=\"1\" class=\"dataframe\">\n",
       "  <thead>\n",
       "    <tr style=\"text-align: right;\">\n",
       "      <th></th>\n",
       "      <th>card_id</th>\n",
       "      <th>purchase_amount</th>\n",
       "    </tr>\n",
       "  </thead>\n",
       "  <tbody>\n",
       "    <tr>\n",
       "      <th>0</th>\n",
       "      <td>C_ID_732dcdbb46</td>\n",
       "      <td>0.282408</td>\n",
       "    </tr>\n",
       "    <tr>\n",
       "      <th>1</th>\n",
       "      <td>C_ID_732dcdbb46</td>\n",
       "      <td>0.090174</td>\n",
       "    </tr>\n",
       "    <tr>\n",
       "      <th>2</th>\n",
       "      <td>C_ID_69082a8187</td>\n",
       "      <td>-0.300711</td>\n",
       "    </tr>\n",
       "    <tr>\n",
       "      <th>3</th>\n",
       "      <td>C_ID_69082a8187</td>\n",
       "      <td>0.346436</td>\n",
       "    </tr>\n",
       "    <tr>\n",
       "      <th>4</th>\n",
       "      <td>C_ID_69082a8187</td>\n",
       "      <td>-0.629701</td>\n",
       "    </tr>\n",
       "  </tbody>\n",
       "</table>\n",
       "</div>"
      ],
      "text/plain": [
       "           card_id  purchase_amount\n",
       "0  C_ID_732dcdbb46         0.282408\n",
       "1  C_ID_732dcdbb46         0.090174\n",
       "2  C_ID_69082a8187        -0.300711\n",
       "3  C_ID_69082a8187         0.346436\n",
       "4  C_ID_69082a8187        -0.629701"
      ]
     },
     "execution_count": 32,
     "metadata": {},
     "output_type": "execute_result"
    }
   ],
   "source": [
    "my_columns = [\"card_id\", \"purchase_amount\"]\n",
    "df_red = pd.read_csv(\"transactions_reduced.csv\", usecols = my_columns)\n",
    "df_red.head()"
   ]
  },
  {
   "cell_type": "code",
   "execution_count": 33,
   "metadata": {
    "collapsed": true
   },
   "outputs": [],
   "source": [
    "liste = df_red[\"card_id\"].value_counts()"
   ]
  },
  {
   "cell_type": "code",
   "execution_count": 40,
   "metadata": {},
   "outputs": [
    {
     "data": {
      "text/plain": [
       "count    201917.000000\n",
       "mean         95.334687\n",
       "std         106.910822\n",
       "min           2.000000\n",
       "25%          31.000000\n",
       "50%          60.000000\n",
       "75%         118.000000\n",
       "max        2915.000000\n",
       "Name: card_id, dtype: float64"
      ]
     },
     "execution_count": 40,
     "metadata": {},
     "output_type": "execute_result"
    }
   ],
   "source": [
    "liste.describe()"
   ]
  },
  {
   "cell_type": "code",
   "execution_count": 42,
   "metadata": {},
   "outputs": [
    {
     "data": {
      "image/png": "[encoded data removed]",
      "text/plain": [
       "<matplotlib.figure.Figure at 0x3f51e2b0>"
      ]
     },
     "metadata": {},
     "output_type": "display_data"
    }
   ],
   "source": [
    "# Histogramme avec matplotlib\n",
    "fig = plt.figure(figsize =(10, 5))\n",
    "ax = fig.add_subplot(111)\n",
    "ax.hist(liste, bins=100);\n",
    "ax.set_xlabel(\"nb_transactions\");\n",
    "ax.set_title(\"Histogramme du nombre de transactions\")\n",
    "plt.show()"
   ]
  },
  {
   "cell_type": "code",
   "execution_count": 44,
   "metadata": {},
   "outputs": [
    {
     "data": {
      "text/html": [
       "\n",
       "\n",
       "    <div class=\"bk-root\">\n",
       "        <div class=\"bk-plotdiv\" id=\"2036364b-65e7-41a2-a1ec-a0bc1b29dc0c\"></div>\n",
       "    </div>\n",
       "<script type=\"text/javascript\">\n",
       "  \n",
       "  (function(global) {\n",
       "    function now() {\n",
       "      return new Date();\n",
       "    }\n",
       "  \n",
       "    var force = false;\n",
       "  \n",
       "    if (typeof (window._bokeh_onload_callbacks) === \"undefined\" || force === true) {\n",
       "      window._bokeh_onload_callbacks = [];\n",
       "      window._bokeh_is_loading = undefined;\n",
       "    }\n",
       "  \n",
       "  \n",
       "    \n",
       "    if (typeof (window._bokeh_timeout) === \"undefined\" || force === true) {\n",
       "      window._bokeh_timeout = Date.now() + 0;\n",
       "      window._bokeh_failed_load = false;\n",
       "    }\n",
       "  \n",
       "    var NB_LOAD_WARNING = {'data': {'text/html':\n",
       "       \"<div style='background-color: #fdd'>\\n\"+\n",
       "       \"<p>\\n\"+\n",
       "       \"BokehJS does not appear to have successfully loaded. If loading BokehJS from CDN, this \\n\"+\n",
       "       \"may be due to a slow or bad network connection. Possible fixes:\\n\"+\n",
       "       \"</p>\\n\"+\n",
       "       \"<ul>\\n\"+\n",
       "       \"<li>re-rerun `output_notebook()` to attempt to load from CDN again, or</li>\\n\"+\n",
       "       \"<li>use INLINE resources instead, as so:</li>\\n\"+\n",
       "       \"</ul>\\n\"+\n",
       "       \"<code>\\n\"+\n",
       "       \"from bokeh.resources import INLINE\\n\"+\n",
       "       \"output_notebook(resources=INLINE)\\n\"+\n",
       "       \"</code>\\n\"+\n",
       "       \"</div>\"}};\n",
       "  \n",
       "    function display_loaded() {\n",
       "      if (window.Bokeh !== undefined) {\n",
       "        var el = document.getElementById(\"2036364b-65e7-41a2-a1ec-a0bc1b29dc0c\");\n",
       "        el.textContent = \"BokehJS \" + Bokeh.version + \" successfully loaded.\";\n",
       "      } else if (Date.now() < window._bokeh_timeout) {\n",
       "        setTimeout(display_loaded, 100)\n",
       "      }\n",
       "    }\n",
       "  \n",
       "    function run_callbacks() {\n",
       "      window._bokeh_onload_callbacks.forEach(function(callback) { callback() });\n",
       "      delete window._bokeh_onload_callbacks\n",
       "      console.info(\"Bokeh: all callbacks have finished\");\n",
       "    }\n",
       "  \n",
       "    function load_libs(js_urls, callback) {\n",
       "      window._bokeh_onload_callbacks.push(callback);\n",
       "      if (window._bokeh_is_loading > 0) {\n",
       "        console.log(\"Bokeh: BokehJS is being loaded, scheduling callback at\", now());\n",
       "        return null;\n",
       "      }\n",
       "      if (js_urls == null || js_urls.length === 0) {\n",
       "        run_callbacks();\n",
       "        return null;\n",
       "      }\n",
       "      console.log(\"Bokeh: BokehJS not loaded, scheduling load and callback at\", now());\n",
       "      window._bokeh_is_loading = js_urls.length;\n",
       "      for (var i = 0; i < js_urls.length; i++) {\n",
       "        var url = js_urls[i];\n",
       "        var s = document.createElement('script');\n",
       "        s.src = url;\n",
       "        s.async = false;\n",
       "        s.onreadystatechange = s.onload = function() {\n",
       "          window._bokeh_is_loading--;\n",
       "          if (window._bokeh_is_loading === 0) {\n",
       "            console.log(\"Bokeh: all BokehJS libraries loaded\");\n",
       "            run_callbacks()\n",
       "          }\n",
       "        };\n",
       "        s.onerror = function() {\n",
       "          console.warn(\"failed to load library \" + url);\n",
       "        };\n",
       "        console.log(\"Bokeh: injecting script tag for BokehJS library: \", url);\n",
       "        document.getElementsByTagName(\"head\")[0].appendChild(s);\n",
       "      }\n",
       "    };var element = document.getElementById(\"2036364b-65e7-41a2-a1ec-a0bc1b29dc0c\");\n",
       "    if (element == null) {\n",
       "      console.log(\"Bokeh: ERROR: autoload.js configured with elementid '2036364b-65e7-41a2-a1ec-a0bc1b29dc0c' but no matching script tag was found. \")\n",
       "      return false;\n",
       "    }\n",
       "  \n",
       "    var js_urls = [];\n",
       "  \n",
       "    var inline_js = [\n",
       "      function(Bokeh) {\n",
       "        (function() {\n",
       "          var fn = function() {\n",
       "            var docs_json = {\"a7d5368c-8888-4965-960a-359042d95770\":{\"roots\":{\"references\":[{\"attributes\":{\"callback\":null},\"id\":\"7e5b2a49-edcc-417b-9e1e-da768023a104\",\"type\":\"DataRange1d\"},{\"attributes\":{\"below\":[{\"id\":\"fffafa5e-4d5c-4cf9-82fc-b14fc36b5fd7\",\"type\":\"LinearAxis\"}],\"left\":[{\"id\":\"089443ad-5e08-4dcd-aef1-1a3629aad935\",\"type\":\"LinearAxis\"}],\"plot_height\":300,\"renderers\":[{\"id\":\"fffafa5e-4d5c-4cf9-82fc-b14fc36b5fd7\",\"type\":\"LinearAxis\"},{\"id\":\"86a41c03-57e9-40bf-9f32-dd4a3b6229a9\",\"type\":\"Grid\"},{\"id\":\"089443ad-5e08-4dcd-aef1-1a3629aad935\",\"type\":\"LinearAxis\"},{\"id\":\"15d50ef8-8ab3-4b1b-b8de-00fdec6baf0f\",\"type\":\"Grid\"},{\"id\":\"eb527cf1-a1d2-449c-bcf0-a14696779ed2\",\"type\":\"BoxAnnotation\"},{\"id\":\"4c49ba14-2c83-4b31-9b8b-c296655688a3\",\"type\":\"GlyphRenderer\"}],\"title\":{\"id\":\"cb526dc3-3885-4ddd-b373-3ad8cee7e7f8\",\"type\":\"Title\"},\"tool_events\":{\"id\":\"8720dbcb-08c8-4252-a6a3-14a38139b318\",\"type\":\"ToolEvents\"},\"toolbar\":{\"id\":\"4352275f-11f6-4946-9651-c231ff8034c3\",\"type\":\"Toolbar\"},\"x_range\":{\"id\":\"7e5b2a49-edcc-417b-9e1e-da768023a104\",\"type\":\"DataRange1d\"},\"y_range\":{\"id\":\"0fed6ee0-56c5-425b-8009-64d328ef706a\",\"type\":\"DataRange1d\"}},\"id\":\"e39bf70d-939a-4554-ae5e-c1acf168d524\",\"subtype\":\"Figure\",\"type\":\"Plot\"},{\"attributes\":{},\"id\":\"909e4073-47dc-4a61-a5f1-c21a2d8819f5\",\"type\":\"BasicTicker\"},{\"attributes\":{\"dimension\":1,\"plot\":{\"id\":\"e39bf70d-939a-4554-ae5e-c1acf168d524\",\"subtype\":\"Figure\",\"type\":\"Plot\"},\"ticker\":{\"id\":\"4e3a14f4-9cee-4e17-9914-b16d41dd8310\",\"type\":\"BasicTicker\"}},\"id\":\"15d50ef8-8ab3-4b1b-b8de-00fdec6baf0f\",\"type\":\"Grid\"},{\"attributes\":{},\"id\":\"f10433b0-560d-42a3-ac9a-6260c7d2009d\",\"type\":\"BasicTickFormatter\"},{\"attributes\":{},\"id\":\"8720dbcb-08c8-4252-a6a3-14a38139b318\",\"type\":\"ToolEvents\"},{\"attributes\":{\"callback\":null,\"column_names\":[\"histogram\",\"left\",\"right\"],\"data\":{\"histogram\":[52388,48734,30794,19702,13184,8995,6442,4723,3544,2700,2219,1666,1311,1057,863,681,504,425,337,273,251,177,162,126,117,90,61,53,48,46,36,26,22,19,21,20,12,14,16,7,6,6,6,6,2,5,2,2,3,2,1,0,0,2,0,1,2,1,0,0,0,1,0,0,0,0,0,0,0,0,0,1,0,0,0,1,0,0,0,0,0,0,0,0,0,0,0,0,0,0,0,0,0,0,0,0,0,0,0,1],\"left\":{\"__ndarray__\":\"AAAAAAAAAEDhehSuRyE/QOF6FK5HIU5AKVyPwvVYVkDhehSuR6FdQM3MzMzMdGJAKVyPwvUYZkCF61G4Hr1pQOF6FK5HYW1AH4XrUbiCcEDNzMzMzFRyQHsUrkfhJnRAKVyPwvX4dUDXo3A9Cst3QIXrUbgenXlAMzMzMzNve0DhehSuR0F9QI/C9ShcE39AH4XrUbhygED2KFyPwluBQM3MzMzMRIJApHA9Ctctg0B7FK5H4RaEQFK4HoXr/4RAKVyPwvXohUAAAAAAANKGQNejcD0Ku4dArkfhehSkiECF61G4Ho2JQFyPwvUodopAMzMzMzNfi0AK16NwPUiMQOF6FK5HMY1AuB6F61EajkCPwvUoXAOPQGZmZmZm7I9AH4XrUbhqkEAK16NwPd+QQPYoXI/CU5FA4XoUrkfIkUDNzMzMzDySQLgehetRsZJApHA9Ctclk0CPwvUoXJqTQHsUrkfhDpRAZmZmZmaDlEBSuB6F6/eUQD0K16NwbJVAKVyPwvXglUAUrkfhelWWQAAAAAAAypZA61G4HoU+l0DXo3A9CrOXQML1KFyPJ5hArkfhehScmECZmZmZmRCZQIXrUbgehZlAcD0K16P5mUBcj8L1KG6aQEfhehSu4ppAMzMzMzNXm0AehetRuMubQArXo3A9QJxA9Shcj8K0nEDhehSuRymdQM3MzMzMnZ1AuB6F61ESnkCkcD0K14aeQI/C9Shc+55AexSuR+Fvn0BmZmZmZuSfQClcj8J1LKBAH4XrUbhmoEAUrkfh+qCgQArXo3A926BAAAAAAIAVoUD2KFyPwk+hQOtRuB4FiqFA4XoUrkfEoUDXo3A9iv6hQM3MzMzMOKJAwvUoXA9zokC4HoXrUa2iQK5H4XqU56JApHA9Ctcho0CZmZmZGVyjQI/C9ShclqNAhetRuJ7Qo0B7FK5H4QqkQHA9CtcjRaRAZmZmZmZ/pEBcj8L1qLmkQFK4HoXr86RAR+F6FC4upUA9CtejcGilQDMzMzOzoqVAKVyPwvXcpUAfhetROBemQBSuR+F6UaZACtejcL2LpkA=\",\"dtype\":\"float64\",\"shape\":[100]},\"right\":{\"__ndarray__\":\"4XoUrkchP0DhehSuRyFOQClcj8L1WFZA4XoUrkehXUDNzMzMzHRiQClcj8L1GGZAhetRuB69aUDhehSuR2FtQB+F61G4gnBAzczMzMxUckB7FK5H4SZ0QClcj8L1+HVA16NwPQrLd0CF61G4Hp15QDMzMzMzb3tA4XoUrkdBfUCPwvUoXBN/QB+F61G4coBA9ihcj8JbgUDNzMzMzESCQKRwPQrXLYNAexSuR+EWhEBSuB6F6/+EQClcj8L16IVAAAAAAADShkDXo3A9CruHQK5H4XoUpIhAhetRuB6NiUBcj8L1KHaKQDMzMzMzX4tACtejcD1IjEDhehSuRzGNQLgehetRGo5Aj8L1KFwDj0BmZmZmZuyPQB+F61G4apBACtejcD3fkED2KFyPwlORQOF6FK5HyJFAzczMzMw8kkC4HoXrUbGSQKRwPQrXJZNAj8L1KFyak0B7FK5H4Q6UQGZmZmZmg5RAUrgehev3lEA9CtejcGyVQClcj8L14JVAFK5H4XpVlkAAAAAAAMqWQOtRuB6FPpdA16NwPQqzl0DC9ShcjyeYQK5H4XoUnJhAmZmZmZkQmUCF61G4HoWZQHA9Ctej+ZlAXI/C9ShumkBH4XoUruKaQDMzMzMzV5tAHoXrUbjLm0AK16NwPUCcQPUoXI/CtJxA4XoUrkcpnUDNzMzMzJ2dQLgehetREp5ApHA9CteGnkCPwvUoXPueQHsUrkfhb59AZmZmZmbkn0ApXI/CdSygQB+F61G4ZqBAFK5H4fqgoEAK16NwPdugQAAAAACAFaFA9ihcj8JPoUDrUbgeBYqhQOF6FK5HxKFA16NwPYr+oUDNzMzMzDiiQML1KFwPc6JAuB6F61GtokCuR+F6lOeiQKRwPQrXIaNAmZmZmRlco0CPwvUoXJajQIXrUbie0KNAexSuR+EKpEBwPQrXI0WkQGZmZmZmf6RAXI/C9ai5pEBSuB6F6/OkQEfhehQuLqVAPQrXo3BopUAzMzMzs6KlQClcj8L13KVAH4XrUTgXpkAUrkfhelGmQArXo3C9i6ZAAAAAAADGpkA=\",\"dtype\":\"float64\",\"shape\":[100]}}},\"id\":\"50204e04-5f33-426a-8be8-eb4916e0afc6\",\"type\":\"ColumnDataSource\"},{\"attributes\":{},\"id\":\"4e3a14f4-9cee-4e17-9914-b16d41dd8310\",\"type\":\"BasicTicker\"},{\"attributes\":{\"bottom\":{\"value\":0},\"fill_alpha\":{\"value\":0.1},\"fill_color\":{\"value\":\"#1f77b4\"},\"left\":{\"field\":\"left\"},\"line_alpha\":{\"value\":0.1},\"line_color\":{\"value\":\"#1f77b4\"},\"right\":{\"field\":\"right\"},\"top\":{\"field\":\"histogram\"}},\"id\":\"32bff99c-0891-4711-af16-852c12de43a1\",\"type\":\"Quad\"},{\"attributes\":{\"bottom\":{\"value\":0},\"fill_color\":{\"value\":\"red\"},\"left\":{\"field\":\"left\"},\"line_color\":{\"value\":\"#1f77b4\"},\"right\":{\"field\":\"right\"},\"top\":{\"field\":\"histogram\"}},\"id\":\"118fee8a-5737-4e27-80f2-b23f9016b466\",\"type\":\"Quad\"},{\"attributes\":{\"bottom\":{\"value\":0},\"fill_color\":{\"value\":\"green\"},\"left\":{\"field\":\"left\"},\"line_color\":{\"value\":\"#1f77b4\"},\"right\":{\"field\":\"right\"},\"top\":{\"field\":\"histogram\"}},\"id\":\"56dacebe-9461-4997-bd76-9f05102d41c7\",\"type\":\"Quad\"},{\"attributes\":{\"formatter\":{\"id\":\"808247cb-5053-4446-80f0-11811394bd0e\",\"type\":\"BasicTickFormatter\"},\"plot\":{\"id\":\"e39bf70d-939a-4554-ae5e-c1acf168d524\",\"subtype\":\"Figure\",\"type\":\"Plot\"},\"ticker\":{\"id\":\"4e3a14f4-9cee-4e17-9914-b16d41dd8310\",\"type\":\"BasicTicker\"}},\"id\":\"089443ad-5e08-4dcd-aef1-1a3629aad935\",\"type\":\"LinearAxis\"},{\"attributes\":{\"data_source\":{\"id\":\"50204e04-5f33-426a-8be8-eb4916e0afc6\",\"type\":\"ColumnDataSource\"},\"glyph\":{\"id\":\"56dacebe-9461-4997-bd76-9f05102d41c7\",\"type\":\"Quad\"},\"hover_glyph\":{\"id\":\"118fee8a-5737-4e27-80f2-b23f9016b466\",\"type\":\"Quad\"},\"muted_glyph\":null,\"nonselection_glyph\":{\"id\":\"32bff99c-0891-4711-af16-852c12de43a1\",\"type\":\"Quad\"},\"selection_glyph\":null},\"id\":\"4c49ba14-2c83-4b31-9b8b-c296655688a3\",\"type\":\"GlyphRenderer\"},{\"attributes\":{},\"id\":\"808247cb-5053-4446-80f0-11811394bd0e\",\"type\":\"BasicTickFormatter\"},{\"attributes\":{\"callback\":null},\"id\":\"0fed6ee0-56c5-425b-8009-64d328ef706a\",\"type\":\"DataRange1d\"},{\"attributes\":{\"plot\":null,\"text\":\"Distribution du nombre de transactions\"},\"id\":\"cb526dc3-3885-4ddd-b373-3ad8cee7e7f8\",\"type\":\"Title\"},{\"attributes\":{\"overlay\":{\"id\":\"eb527cf1-a1d2-449c-bcf0-a14696779ed2\",\"type\":\"BoxAnnotation\"},\"plot\":{\"id\":\"e39bf70d-939a-4554-ae5e-c1acf168d524\",\"subtype\":\"Figure\",\"type\":\"Plot\"}},\"id\":\"68f72369-f108-4465-bc25-8195cd113454\",\"type\":\"BoxZoomTool\"},{\"attributes\":{\"plot\":{\"id\":\"e39bf70d-939a-4554-ae5e-c1acf168d524\",\"subtype\":\"Figure\",\"type\":\"Plot\"}},\"id\":\"e648d506-9965-4934-b15c-5715e9993ab4\",\"type\":\"WheelZoomTool\"},{\"attributes\":{\"plot\":{\"id\":\"e39bf70d-939a-4554-ae5e-c1acf168d524\",\"subtype\":\"Figure\",\"type\":\"Plot\"}},\"id\":\"4c83af1b-1448-493b-8606-052c933789da\",\"type\":\"PanTool\"},{\"attributes\":{\"bottom_units\":\"screen\",\"fill_alpha\":{\"value\":0.5},\"fill_color\":{\"value\":\"lightgrey\"},\"left_units\":\"screen\",\"level\":\"overlay\",\"line_alpha\":{\"value\":1.0},\"line_color\":{\"value\":\"black\"},\"line_dash\":[4,4],\"line_width\":{\"value\":2},\"plot\":null,\"render_mode\":\"css\",\"right_units\":\"screen\",\"top_units\":\"screen\"},\"id\":\"eb527cf1-a1d2-449c-bcf0-a14696779ed2\",\"type\":\"BoxAnnotation\"},{\"attributes\":{\"axis_label\":\"nb de transactions\",\"formatter\":{\"id\":\"f10433b0-560d-42a3-ac9a-6260c7d2009d\",\"type\":\"BasicTickFormatter\"},\"plot\":{\"id\":\"e39bf70d-939a-4554-ae5e-c1acf168d524\",\"subtype\":\"Figure\",\"type\":\"Plot\"},\"ticker\":{\"id\":\"909e4073-47dc-4a61-a5f1-c21a2d8819f5\",\"type\":\"BasicTicker\"}},\"id\":\"fffafa5e-4d5c-4cf9-82fc-b14fc36b5fd7\",\"type\":\"LinearAxis\"},{\"attributes\":{\"plot\":{\"id\":\"e39bf70d-939a-4554-ae5e-c1acf168d524\",\"subtype\":\"Figure\",\"type\":\"Plot\"}},\"id\":\"36aa4d6c-6757-4db7-bbff-e1f1bd65cdc6\",\"type\":\"ResetTool\"},{\"attributes\":{\"plot\":{\"id\":\"e39bf70d-939a-4554-ae5e-c1acf168d524\",\"subtype\":\"Figure\",\"type\":\"Plot\"}},\"id\":\"13c30176-a49c-4b4f-8a41-53342f361b6c\",\"type\":\"SaveTool\"},{\"attributes\":{\"callback\":null,\"plot\":{\"id\":\"e39bf70d-939a-4554-ae5e-c1acf168d524\",\"subtype\":\"Figure\",\"type\":\"Plot\"},\"tooltips\":[[\"nb de clients\",\"@histogram\"],[\"nb de transactions\",\"$x\"]]},\"id\":\"d3e22fc3-c010-44fc-b467-327e88a8b0f8\",\"type\":\"HoverTool\"},{\"attributes\":{\"plot\":{\"id\":\"e39bf70d-939a-4554-ae5e-c1acf168d524\",\"subtype\":\"Figure\",\"type\":\"Plot\"}},\"id\":\"7835cab6-3976-4323-a74a-9b1f6675dbc4\",\"type\":\"HelpTool\"},{\"attributes\":{\"plot\":{\"id\":\"e39bf70d-939a-4554-ae5e-c1acf168d524\",\"subtype\":\"Figure\",\"type\":\"Plot\"},\"ticker\":{\"id\":\"909e4073-47dc-4a61-a5f1-c21a2d8819f5\",\"type\":\"BasicTicker\"}},\"id\":\"86a41c03-57e9-40bf-9f32-dd4a3b6229a9\",\"type\":\"Grid\"},{\"attributes\":{\"active_drag\":\"auto\",\"active_scroll\":\"auto\",\"active_tap\":\"auto\",\"tools\":[{\"id\":\"4c83af1b-1448-493b-8606-052c933789da\",\"type\":\"PanTool\"},{\"id\":\"e648d506-9965-4934-b15c-5715e9993ab4\",\"type\":\"WheelZoomTool\"},{\"id\":\"68f72369-f108-4465-bc25-8195cd113454\",\"type\":\"BoxZoomTool\"},{\"id\":\"13c30176-a49c-4b4f-8a41-53342f361b6c\",\"type\":\"SaveTool\"},{\"id\":\"36aa4d6c-6757-4db7-bbff-e1f1bd65cdc6\",\"type\":\"ResetTool\"},{\"id\":\"7835cab6-3976-4323-a74a-9b1f6675dbc4\",\"type\":\"HelpTool\"},{\"id\":\"d3e22fc3-c010-44fc-b467-327e88a8b0f8\",\"type\":\"HoverTool\"}]},\"id\":\"4352275f-11f6-4946-9651-c231ff8034c3\",\"type\":\"Toolbar\"}],\"root_ids\":[\"e39bf70d-939a-4554-ae5e-c1acf168d524\"]},\"title\":\"Bokeh Application\",\"version\":\"0.12.5\"}};\n",
       "            var render_items = [{\"docid\":\"a7d5368c-8888-4965-960a-359042d95770\",\"elementid\":\"2036364b-65e7-41a2-a1ec-a0bc1b29dc0c\",\"modelid\":\"e39bf70d-939a-4554-ae5e-c1acf168d524\"}];\n",
       "            \n",
       "            Bokeh.embed.embed_items(docs_json, render_items);\n",
       "          };\n",
       "          if (document.readyState != \"loading\") fn();\n",
       "          else document.addEventListener(\"DOMContentLoaded\", fn);\n",
       "        })();\n",
       "      },\n",
       "      function(Bokeh) {\n",
       "      }\n",
       "    ];\n",
       "  \n",
       "    function run_inline_js() {\n",
       "      \n",
       "      if ((window.Bokeh !== undefined) || (force === true)) {\n",
       "        for (var i = 0; i < inline_js.length; i++) {\n",
       "          inline_js[i](window.Bokeh);\n",
       "        }if (force === true) {\n",
       "          display_loaded();\n",
       "        }} else if (Date.now() < window._bokeh_timeout) {\n",
       "        setTimeout(run_inline_js, 100);\n",
       "      } else if (!window._bokeh_failed_load) {\n",
       "        console.log(\"Bokeh: BokehJS failed to load within specified timeout.\");\n",
       "        window._bokeh_failed_load = true;\n",
       "      } else if (force !== true) {\n",
       "        var cell = $(document.getElementById(\"2036364b-65e7-41a2-a1ec-a0bc1b29dc0c\")).parents('.cell').data().cell;\n",
       "        cell.output_area.append_execute_result(NB_LOAD_WARNING)\n",
       "      }\n",
       "  \n",
       "    }\n",
       "  \n",
       "    if (window._bokeh_is_loading === 0) {\n",
       "      console.log(\"Bokeh: BokehJS loaded, going straight to plotting\");\n",
       "      run_inline_js();\n",
       "    } else {\n",
       "      load_libs(js_urls, function() {\n",
       "        console.log(\"Bokeh: BokehJS plotting callback run at\", now());\n",
       "        run_inline_js();\n",
       "      });\n",
       "    }\n",
       "  }(this));\n",
       "</script>"
      ]
     },
     "metadata": {},
     "output_type": "display_data"
    }
   ],
   "source": [
    "# Histogramme avec Bokeh\n",
    "histogram, edges = np.histogram(liste, bins = 100)\n",
    "\n",
    "source = ColumnDataSource(data=dict(histogram = histogram, left = edges[:-1], right = edges[1:]))\n",
    "\n",
    "p = figure(plot_width = 600, plot_height = 300, \n",
    "           title = \"Distribution du nombre de transactions\",\n",
    "          x_axis_label = \"nb de transactions\")\n",
    "p.quad(top = \"histogram\", bottom = 0, left = \"left\", right = \"right\", fill_color = \"green\", \n",
    "      hover_fill_color = \"red\", source = source)\n",
    "hover = HoverTool(tooltips = [(\"nb de clients\", \"@histogram\"),(\"nb de transactions\", \"$x\")])\n",
    "p.add_tools(hover)\n",
    "show(p)"
   ]
  },
  {
   "cell_type": "code",
   "execution_count": 47,
   "metadata": {},
   "outputs": [
    {
     "data": {
      "text/html": [
       "\n",
       "\n",
       "    <div class=\"bk-root\">\n",
       "        <div class=\"bk-plotdiv\" id=\"2cc4ae08-b36d-4bbb-bc0f-061e5b838e7b\"></div>\n",
       "    </div>\n",
       "<script type=\"text/javascript\">\n",
       "  \n",
       "  (function(global) {\n",
       "    function now() {\n",
       "      return new Date();\n",
       "    }\n",
       "  \n",
       "    var force = false;\n",
       "  \n",
       "    if (typeof (window._bokeh_onload_callbacks) === \"undefined\" || force === true) {\n",
       "      window._bokeh_onload_callbacks = [];\n",
       "      window._bokeh_is_loading = undefined;\n",
       "    }\n",
       "  \n",
       "  \n",
       "    \n",
       "    if (typeof (window._bokeh_timeout) === \"undefined\" || force === true) {\n",
       "      window._bokeh_timeout = Date.now() + 0;\n",
       "      window._bokeh_failed_load = false;\n",
       "    }\n",
       "  \n",
       "    var NB_LOAD_WARNING = {'data': {'text/html':\n",
       "       \"<div style='background-color: #fdd'>\\n\"+\n",
       "       \"<p>\\n\"+\n",
       "       \"BokehJS does not appear to have successfully loaded. If loading BokehJS from CDN, this \\n\"+\n",
       "       \"may be due to a slow or bad network connection. Possible fixes:\\n\"+\n",
       "       \"</p>\\n\"+\n",
       "       \"<ul>\\n\"+\n",
       "       \"<li>re-rerun `output_notebook()` to attempt to load from CDN again, or</li>\\n\"+\n",
       "       \"<li>use INLINE resources instead, as so:</li>\\n\"+\n",
       "       \"</ul>\\n\"+\n",
       "       \"<code>\\n\"+\n",
       "       \"from bokeh.resources import INLINE\\n\"+\n",
       "       \"output_notebook(resources=INLINE)\\n\"+\n",
       "       \"</code>\\n\"+\n",
       "       \"</div>\"}};\n",
       "  \n",
       "    function display_loaded() {\n",
       "      if (window.Bokeh !== undefined) {\n",
       "        var el = document.getElementById(\"2cc4ae08-b36d-4bbb-bc0f-061e5b838e7b\");\n",
       "        el.textContent = \"BokehJS \" + Bokeh.version + \" successfully loaded.\";\n",
       "      } else if (Date.now() < window._bokeh_timeout) {\n",
       "        setTimeout(display_loaded, 100)\n",
       "      }\n",
       "    }\n",
       "  \n",
       "    function run_callbacks() {\n",
       "      window._bokeh_onload_callbacks.forEach(function(callback) { callback() });\n",
       "      delete window._bokeh_onload_callbacks\n",
       "      console.info(\"Bokeh: all callbacks have finished\");\n",
       "    }\n",
       "  \n",
       "    function load_libs(js_urls, callback) {\n",
       "      window._bokeh_onload_callbacks.push(callback);\n",
       "      if (window._bokeh_is_loading > 0) {\n",
       "        console.log(\"Bokeh: BokehJS is being loaded, scheduling callback at\", now());\n",
       "        return null;\n",
       "      }\n",
       "      if (js_urls == null || js_urls.length === 0) {\n",
       "        run_callbacks();\n",
       "        return null;\n",
       "      }\n",
       "      console.log(\"Bokeh: BokehJS not loaded, scheduling load and callback at\", now());\n",
       "      window._bokeh_is_loading = js_urls.length;\n",
       "      for (var i = 0; i < js_urls.length; i++) {\n",
       "        var url = js_urls[i];\n",
       "        var s = document.createElement('script');\n",
       "        s.src = url;\n",
       "        s.async = false;\n",
       "        s.onreadystatechange = s.onload = function() {\n",
       "          window._bokeh_is_loading--;\n",
       "          if (window._bokeh_is_loading === 0) {\n",
       "            console.log(\"Bokeh: all BokehJS libraries loaded\");\n",
       "            run_callbacks()\n",
       "          }\n",
       "        };\n",
       "        s.onerror = function() {\n",
       "          console.warn(\"failed to load library \" + url);\n",
       "        };\n",
       "        console.log(\"Bokeh: injecting script tag for BokehJS library: \", url);\n",
       "        document.getElementsByTagName(\"head\")[0].appendChild(s);\n",
       "      }\n",
       "    };var element = document.getElementById(\"2cc4ae08-b36d-4bbb-bc0f-061e5b838e7b\");\n",
       "    if (element == null) {\n",
       "      console.log(\"Bokeh: ERROR: autoload.js configured with elementid '2cc4ae08-b36d-4bbb-bc0f-061e5b838e7b' but no matching script tag was found. \")\n",
       "      return false;\n",
       "    }\n",
       "  \n",
       "    var js_urls = [];\n",
       "  \n",
       "    var inline_js = [\n",
       "      function(Bokeh) {\n",
       "        (function() {\n",
       "          var fn = function() {\n",
       "            var docs_json = {\"739d81f4-ccdc-4e27-954b-1d63511d3fca\":{\"roots\":{\"references\":[{\"attributes\":{},\"id\":\"5a964301-6377-4e23-88a4-5145589f000a\",\"type\":\"BasicTicker\"},{\"attributes\":{\"dimension\":1,\"plot\":{\"id\":\"f9731121-90d8-487d-890a-dcfa883c79a4\",\"subtype\":\"Figure\",\"type\":\"Plot\"},\"ticker\":{\"id\":\"5a964301-6377-4e23-88a4-5145589f000a\",\"type\":\"BasicTicker\"}},\"id\":\"0c4f561b-8cc1-4fc4-ac20-6a1c82f33655\",\"type\":\"Grid\"},{\"attributes\":{\"axis_label\":\"nb de transactions\",\"formatter\":{\"id\":\"8bad29b7-3824-4e80-b561-eb78e3ba8270\",\"type\":\"BasicTickFormatter\"},\"plot\":{\"id\":\"f9731121-90d8-487d-890a-dcfa883c79a4\",\"subtype\":\"Figure\",\"type\":\"Plot\"},\"ticker\":{\"id\":\"c1910014-5849-4a7d-84c1-8a04936722cd\",\"type\":\"BasicTicker\"}},\"id\":\"9740028f-0b76-4572-8a65-54e85884a514\",\"type\":\"LinearAxis\"},{\"attributes\":{\"callback\":null,\"column_names\":[\"histogram\",\"left\",\"right\"],\"data\":{\"histogram\":[1316,6859,10621,11415,11428,10749,10151,9260,8703,8020,7179,6732,6307,5855,5263,4917,4568,4215,4001,3546,3372,3106,2903,2787,2493,2424,2230,2099,1904,1773,1737,1555,1487,1146,1395,1296,1213,1165,1108,994,947,915,811,819,732,766,680,690,625,627,601,578,514,509,495,425,471,452,415,437,372,394,378,352,322,317,257,271,268,269,224,255,231,222,210,212,207,193,200,181,143,180,178,153,143,138,142,130,114,110,117,118,105,124,75,105,81,90,75,86],\"left\":{\"__ndarray__\":\"AAAAAAAAAEDhehSuR+EbQOF6FK5H4SdAKVyPwvXoMEDhehSuR+E1QJmZmZmZ2TpAUrgehevRP0CF61G4HmVCQOF6FK5H4URAPQrXo3BdR0CZmZmZmdlJQPUoXI/CVUxAUrgehevRTkDXo3A9CqdQQIXrUbge5VFAMzMzMzMjU0DhehSuR2FUQI/C9Shcn1VAPQrXo3DdVkDrUbgehRtYQJmZmZmZWVlAR+F6FK6XWkD1KFyPwtVbQKNwPQrXE11AUrgehetRXkAAAAAAAJBfQNejcD0KZ2BArkfhehQGYUCF61G4HqVhQFyPwvUoRGJAMzMzMzPjYkAK16NwPYJjQOF6FK5HIWRAuB6F61HAZECPwvUoXF9lQGZmZmZm/mVAPQrXo3CdZkAUrkfhejxnQOtRuB6F22dAwvUoXI96aECZmZmZmRlpQHA9CtejuGlAR+F6FK5XakAehetRuPZqQPUoXI/ClWtAzMzMzMw0bECjcD0K19NsQHoUrkfhcm1AUrgehesRbkApXI/C9bBuQAAAAAAAUG9A16NwPQrvb0DXo3A9CkdwQML1KFyPlnBArkfhehTmcECZmZmZmTVxQIXrUbgehXFAcD0K16PUcUBcj8L1KCRyQEfhehSuc3JAMzMzMzPDckAehetRuBJzQArXo3A9YnNA9Shcj8Kxc0DhehSuRwF0QM3MzMzMUHRAuB6F61GgdECkcD0K1+90QI/C9ShcP3VAexSuR+GOdUBmZmZmZt51QFK4HoXrLXZAPQrXo3B9dkApXI/C9cx2QBSuR+F6HHdAAAAAAABsd0DrUbgehbt3QNejcD0KC3hAwvUoXI9aeECuR+F6FKp4QJmZmZmZ+XhAhetRuB5JeUBwPQrXo5h5QFyPwvUo6HlAR+F6FK43ekAzMzMzM4d6QB6F61G41npACtejcD0me0D1KFyPwnV7QOF6FK5HxXtAzMzMzMwUfEC4HoXrUWR8QKNwPQrXs3xAj8L1KFwDfUB6FK5H4VJ9QGZmZmZmon1AUrgehevxfUA9CtejcEF+QClcj8L1kH5AFK5H4XrgfkA=\",\"dtype\":\"float64\",\"shape\":[100]},\"right\":{\"__ndarray__\":\"4XoUrkfhG0DhehSuR+EnQClcj8L16DBA4XoUrkfhNUCZmZmZmdk6QFK4HoXr0T9AhetRuB5lQkDhehSuR+FEQD0K16NwXUdAmZmZmZnZSUD1KFyPwlVMQFK4HoXr0U5A16NwPQqnUECF61G4HuVRQDMzMzMzI1NA4XoUrkdhVECPwvUoXJ9VQD0K16Nw3VZA61G4HoUbWECZmZmZmVlZQEfhehSul1pA9Shcj8LVW0CjcD0K1xNdQFK4HoXrUV5AAAAAAACQX0DXo3A9CmdgQK5H4XoUBmFAhetRuB6lYUBcj8L1KERiQDMzMzMz42JACtejcD2CY0DhehSuRyFkQLgehetRwGRAj8L1KFxfZUBmZmZmZv5lQD0K16NwnWZAFK5H4Xo8Z0DrUbgehdtnQML1KFyPemhAmZmZmZkZaUBwPQrXo7hpQEfhehSuV2pAHoXrUbj2akD1KFyPwpVrQMzMzMzMNGxAo3A9CtfTbEB6FK5H4XJtQFK4HoXrEW5AKVyPwvWwbkAAAAAAAFBvQNejcD0K729A16NwPQpHcEDC9Shcj5ZwQK5H4XoU5nBAmZmZmZk1cUCF61G4HoVxQHA9Ctej1HFAXI/C9SgkckBH4XoUrnNyQDMzMzMzw3JAHoXrUbgSc0AK16NwPWJzQPUoXI/CsXNA4XoUrkcBdEDNzMzMzFB0QLgehetRoHRApHA9CtfvdECPwvUoXD91QHsUrkfhjnVAZmZmZmbedUBSuB6F6y12QD0K16NwfXZAKVyPwvXMdkAUrkfhehx3QAAAAAAAbHdA61G4HoW7d0DXo3A9Cgt4QML1KFyPWnhArkfhehSqeECZmZmZmfl4QIXrUbgeSXlAcD0K16OYeUBcj8L1KOh5QEfhehSuN3pAMzMzMzOHekAehetRuNZ6QArXo3A9JntA9Shcj8J1e0DhehSuR8V7QMzMzMzMFHxAuB6F61FkfECjcD0K17N8QI/C9ShcA31AehSuR+FSfUBmZmZmZqJ9QFK4HoXr8X1APQrXo3BBfkApXI/C9ZB+QBSuR+F64H5AAAAAAAAwf0A=\",\"dtype\":\"float64\",\"shape\":[100]}}},\"id\":\"66255fca-ea91-4a8f-b4f9-28e3fb1299a5\",\"type\":\"ColumnDataSource\"},{\"attributes\":{},\"id\":\"af6790ef-cbc0-4dcb-a765-36cb56186a31\",\"type\":\"BasicTickFormatter\"},{\"attributes\":{\"overlay\":{\"id\":\"4acebbe3-1d59-4d9b-9c8d-0d600bfa7eed\",\"type\":\"BoxAnnotation\"},\"plot\":{\"id\":\"f9731121-90d8-487d-890a-dcfa883c79a4\",\"subtype\":\"Figure\",\"type\":\"Plot\"}},\"id\":\"858ca2d7-462d-4c1f-aba2-44c571e91399\",\"type\":\"BoxZoomTool\"},{\"attributes\":{\"plot\":{\"id\":\"f9731121-90d8-487d-890a-dcfa883c79a4\",\"subtype\":\"Figure\",\"type\":\"Plot\"}},\"id\":\"1536b185-0205-4a3a-b20a-e65559c8377f\",\"type\":\"PanTool\"},{\"attributes\":{\"plot\":{\"id\":\"f9731121-90d8-487d-890a-dcfa883c79a4\",\"subtype\":\"Figure\",\"type\":\"Plot\"}},\"id\":\"b8f70e63-b427-4b26-b556-2d22d02c58ff\",\"type\":\"SaveTool\"},{\"attributes\":{\"data_source\":{\"id\":\"66255fca-ea91-4a8f-b4f9-28e3fb1299a5\",\"type\":\"ColumnDataSource\"},\"glyph\":{\"id\":\"c4ed56b4-282d-4812-b6fc-082b3e3bbb13\",\"type\":\"Quad\"},\"hover_glyph\":{\"id\":\"0b402075-bf7d-4398-86a8-686a2fa2c268\",\"type\":\"Quad\"},\"muted_glyph\":null,\"nonselection_glyph\":{\"id\":\"1f0d0cc6-0623-43ff-9dc9-54e3cb08e195\",\"type\":\"Quad\"},\"selection_glyph\":null},\"id\":\"7fdf6f96-f473-4b95-b303-b081f5cf9cbe\",\"type\":\"GlyphRenderer\"},{\"attributes\":{\"callback\":null},\"id\":\"71738c4a-689d-41fd-8263-a5a26aa36807\",\"type\":\"DataRange1d\"},{\"attributes\":{\"plot\":{\"id\":\"f9731121-90d8-487d-890a-dcfa883c79a4\",\"subtype\":\"Figure\",\"type\":\"Plot\"}},\"id\":\"d4becbbd-bfb1-4333-99b9-bf6aad71dfb1\",\"type\":\"ResetTool\"},{\"attributes\":{},\"id\":\"c1910014-5849-4a7d-84c1-8a04936722cd\",\"type\":\"BasicTicker\"},{\"attributes\":{\"below\":[{\"id\":\"9740028f-0b76-4572-8a65-54e85884a514\",\"type\":\"LinearAxis\"}],\"left\":[{\"id\":\"0c0b1d6b-c43e-426d-9cce-825970947a95\",\"type\":\"LinearAxis\"}],\"plot_height\":300,\"renderers\":[{\"id\":\"9740028f-0b76-4572-8a65-54e85884a514\",\"type\":\"LinearAxis\"},{\"id\":\"bfe7aa0a-c30a-4307-9fe2-1303a1812b22\",\"type\":\"Grid\"},{\"id\":\"0c0b1d6b-c43e-426d-9cce-825970947a95\",\"type\":\"LinearAxis\"},{\"id\":\"0c4f561b-8cc1-4fc4-ac20-6a1c82f33655\",\"type\":\"Grid\"},{\"id\":\"4acebbe3-1d59-4d9b-9c8d-0d600bfa7eed\",\"type\":\"BoxAnnotation\"},{\"id\":\"7fdf6f96-f473-4b95-b303-b081f5cf9cbe\",\"type\":\"GlyphRenderer\"}],\"title\":{\"id\":\"2a413806-d1b7-46c1-b368-ec8ceacd646c\",\"type\":\"Title\"},\"tool_events\":{\"id\":\"1e858d15-e304-4a8e-80b4-ae0e2a7ec5b8\",\"type\":\"ToolEvents\"},\"toolbar\":{\"id\":\"9d91f1e2-990c-45cf-8975-0aa9591daaef\",\"type\":\"Toolbar\"},\"x_range\":{\"id\":\"71738c4a-689d-41fd-8263-a5a26aa36807\",\"type\":\"DataRange1d\"},\"y_range\":{\"id\":\"6d5a92a6-e495-4924-a34d-848a12404ebc\",\"type\":\"DataRange1d\"}},\"id\":\"f9731121-90d8-487d-890a-dcfa883c79a4\",\"subtype\":\"Figure\",\"type\":\"Plot\"},{\"attributes\":{\"callback\":null,\"plot\":{\"id\":\"f9731121-90d8-487d-890a-dcfa883c79a4\",\"subtype\":\"Figure\",\"type\":\"Plot\"},\"tooltips\":[[\"nb de clients\",\"@histogram\"],[\"nb de transactions\",\"$x\"]]},\"id\":\"8c861047-6176-4495-bc4c-02159154b2fa\",\"type\":\"HoverTool\"},{\"attributes\":{\"plot\":{\"id\":\"f9731121-90d8-487d-890a-dcfa883c79a4\",\"subtype\":\"Figure\",\"type\":\"Plot\"},\"ticker\":{\"id\":\"c1910014-5849-4a7d-84c1-8a04936722cd\",\"type\":\"BasicTicker\"}},\"id\":\"bfe7aa0a-c30a-4307-9fe2-1303a1812b22\",\"type\":\"Grid\"},{\"attributes\":{\"plot\":{\"id\":\"f9731121-90d8-487d-890a-dcfa883c79a4\",\"subtype\":\"Figure\",\"type\":\"Plot\"}},\"id\":\"68151302-1b77-4e71-a93c-f7988d2e8940\",\"type\":\"HelpTool\"},{\"attributes\":{\"bottom\":{\"value\":0},\"fill_alpha\":{\"value\":0.1},\"fill_color\":{\"value\":\"#1f77b4\"},\"left\":{\"field\":\"left\"},\"line_alpha\":{\"value\":0.1},\"line_color\":{\"value\":\"#1f77b4\"},\"right\":{\"field\":\"right\"},\"top\":{\"field\":\"histogram\"}},\"id\":\"1f0d0cc6-0623-43ff-9dc9-54e3cb08e195\",\"type\":\"Quad\"},{\"attributes\":{\"bottom\":{\"value\":0},\"fill_color\":{\"value\":\"red\"},\"left\":{\"field\":\"left\"},\"line_color\":{\"value\":\"#1f77b4\"},\"right\":{\"field\":\"right\"},\"top\":{\"field\":\"histogram\"}},\"id\":\"0b402075-bf7d-4398-86a8-686a2fa2c268\",\"type\":\"Quad\"},{\"attributes\":{},\"id\":\"1e858d15-e304-4a8e-80b4-ae0e2a7ec5b8\",\"type\":\"ToolEvents\"},{\"attributes\":{\"formatter\":{\"id\":\"af6790ef-cbc0-4dcb-a765-36cb56186a31\",\"type\":\"BasicTickFormatter\"},\"plot\":{\"id\":\"f9731121-90d8-487d-890a-dcfa883c79a4\",\"subtype\":\"Figure\",\"type\":\"Plot\"},\"ticker\":{\"id\":\"5a964301-6377-4e23-88a4-5145589f000a\",\"type\":\"BasicTicker\"}},\"id\":\"0c0b1d6b-c43e-426d-9cce-825970947a95\",\"type\":\"LinearAxis\"},{\"attributes\":{\"bottom\":{\"value\":0},\"fill_color\":{\"value\":\"green\"},\"left\":{\"field\":\"left\"},\"line_color\":{\"value\":\"#1f77b4\"},\"right\":{\"field\":\"right\"},\"top\":{\"field\":\"histogram\"}},\"id\":\"c4ed56b4-282d-4812-b6fc-082b3e3bbb13\",\"type\":\"Quad\"},{\"attributes\":{\"plot\":{\"id\":\"f9731121-90d8-487d-890a-dcfa883c79a4\",\"subtype\":\"Figure\",\"type\":\"Plot\"}},\"id\":\"554c9e7b-2bcc-4431-a47d-106e58594d0c\",\"type\":\"WheelZoomTool\"},{\"attributes\":{\"plot\":null,\"text\":\"Distribution du nombre de transactions\"},\"id\":\"2a413806-d1b7-46c1-b368-ec8ceacd646c\",\"type\":\"Title\"},{\"attributes\":{\"bottom_units\":\"screen\",\"fill_alpha\":{\"value\":0.5},\"fill_color\":{\"value\":\"lightgrey\"},\"left_units\":\"screen\",\"level\":\"overlay\",\"line_alpha\":{\"value\":1.0},\"line_color\":{\"value\":\"black\"},\"line_dash\":[4,4],\"line_width\":{\"value\":2},\"plot\":null,\"render_mode\":\"css\",\"right_units\":\"screen\",\"top_units\":\"screen\"},\"id\":\"4acebbe3-1d59-4d9b-9c8d-0d600bfa7eed\",\"type\":\"BoxAnnotation\"},{\"attributes\":{\"active_drag\":\"auto\",\"active_scroll\":\"auto\",\"active_tap\":\"auto\",\"tools\":[{\"id\":\"1536b185-0205-4a3a-b20a-e65559c8377f\",\"type\":\"PanTool\"},{\"id\":\"554c9e7b-2bcc-4431-a47d-106e58594d0c\",\"type\":\"WheelZoomTool\"},{\"id\":\"858ca2d7-462d-4c1f-aba2-44c571e91399\",\"type\":\"BoxZoomTool\"},{\"id\":\"b8f70e63-b427-4b26-b556-2d22d02c58ff\",\"type\":\"SaveTool\"},{\"id\":\"d4becbbd-bfb1-4333-99b9-bf6aad71dfb1\",\"type\":\"ResetTool\"},{\"id\":\"68151302-1b77-4e71-a93c-f7988d2e8940\",\"type\":\"HelpTool\"},{\"id\":\"8c861047-6176-4495-bc4c-02159154b2fa\",\"type\":\"HoverTool\"}]},\"id\":\"9d91f1e2-990c-45cf-8975-0aa9591daaef\",\"type\":\"Toolbar\"},{\"attributes\":{\"callback\":null},\"id\":\"6d5a92a6-e495-4924-a34d-848a12404ebc\",\"type\":\"DataRange1d\"},{\"attributes\":{},\"id\":\"8bad29b7-3824-4e80-b561-eb78e3ba8270\",\"type\":\"BasicTickFormatter\"}],\"root_ids\":[\"f9731121-90d8-487d-890a-dcfa883c79a4\"]},\"title\":\"Bokeh Application\",\"version\":\"0.12.5\"}};\n",
       "            var render_items = [{\"docid\":\"739d81f4-ccdc-4e27-954b-1d63511d3fca\",\"elementid\":\"2cc4ae08-b36d-4bbb-bc0f-061e5b838e7b\",\"modelid\":\"f9731121-90d8-487d-890a-dcfa883c79a4\"}];\n",
       "            \n",
       "            Bokeh.embed.embed_items(docs_json, render_items);\n",
       "          };\n",
       "          if (document.readyState != \"loading\") fn();\n",
       "          else document.addEventListener(\"DOMContentLoaded\", fn);\n",
       "        })();\n",
       "      },\n",
       "      function(Bokeh) {\n",
       "      }\n",
       "    ];\n",
       "  \n",
       "    function run_inline_js() {\n",
       "      \n",
       "      if ((window.Bokeh !== undefined) || (force === true)) {\n",
       "        for (var i = 0; i < inline_js.length; i++) {\n",
       "          inline_js[i](window.Bokeh);\n",
       "        }if (force === true) {\n",
       "          display_loaded();\n",
       "        }} else if (Date.now() < window._bokeh_timeout) {\n",
       "        setTimeout(run_inline_js, 100);\n",
       "      } else if (!window._bokeh_failed_load) {\n",
       "        console.log(\"Bokeh: BokehJS failed to load within specified timeout.\");\n",
       "        window._bokeh_failed_load = true;\n",
       "      } else if (force !== true) {\n",
       "        var cell = $(document.getElementById(\"2cc4ae08-b36d-4bbb-bc0f-061e5b838e7b\")).parents('.cell').data().cell;\n",
       "        cell.output_area.append_execute_result(NB_LOAD_WARNING)\n",
       "      }\n",
       "  \n",
       "    }\n",
       "  \n",
       "    if (window._bokeh_is_loading === 0) {\n",
       "      console.log(\"Bokeh: BokehJS loaded, going straight to plotting\");\n",
       "      run_inline_js();\n",
       "    } else {\n",
       "      load_libs(js_urls, function() {\n",
       "        console.log(\"Bokeh: BokehJS plotting callback run at\", now());\n",
       "        run_inline_js();\n",
       "      });\n",
       "    }\n",
       "  }(this));\n",
       "</script>"
      ]
     },
     "metadata": {},
     "output_type": "display_data"
    }
   ],
   "source": [
    "# Histogramme avec Bokeh\n",
    "histogram, edges = np.histogram(liste[liste < 500], bins = 100)\n",
    "\n",
    "source = ColumnDataSource(data=dict(histogram = histogram, left = edges[:-1], right = edges[1:]))\n",
    "\n",
    "p = figure(plot_width = 600, plot_height = 300, \n",
    "           title = \"Distribution du nombre de transactions\",\n",
    "          x_axis_label = \"nb de transactions\")\n",
    "p.quad(top = \"histogram\", bottom = 0, left = \"left\", right = \"right\", fill_color = \"green\", \n",
    "      hover_fill_color = \"red\", source = source)\n",
    "hover = HoverTool(tooltips = [(\"nb de clients\", \"@histogram\"),(\"nb de transactions\", \"$x\")])\n",
    "p.add_tools(hover)\n",
    "show(p)"
   ]
  },
  {
   "cell_type": "markdown",
   "metadata": {},
   "source": [
    "### Données aberrantes"
   ]
  },
  {
   "cell_type": "code",
   "execution_count": 25,
   "metadata": {
    "collapsed": true
   },
   "outputs": [],
   "source": [
    "df_tr_ab = df_tr[df_tr[\"card_id\"].isin(my_card_id_ab)]"
   ]
  },
  {
   "cell_type": "code",
   "execution_count": 26,
   "metadata": {},
   "outputs": [
    {
     "data": {
      "text/html": [
       "<div>\n",
       "<style>\n",
       "    .dataframe thead tr:only-child th {\n",
       "        text-align: right;\n",
       "    }\n",
       "\n",
       "    .dataframe thead th {\n",
       "        text-align: left;\n",
       "    }\n",
       "\n",
       "    .dataframe tbody tr th {\n",
       "        vertical-align: top;\n",
       "    }\n",
       "</style>\n",
       "<table border=\"1\" class=\"dataframe\">\n",
       "  <thead>\n",
       "    <tr style=\"text-align: right;\">\n",
       "      <th></th>\n",
       "      <th>authorized_flag</th>\n",
       "      <th>card_id</th>\n",
       "      <th>purchase_amount</th>\n",
       "    </tr>\n",
       "  </thead>\n",
       "  <tbody>\n",
       "    <tr>\n",
       "      <th>10102</th>\n",
       "      <td>Y</td>\n",
       "      <td>C_ID_cfdb2cdc49</td>\n",
       "      <td>-0.736585</td>\n",
       "    </tr>\n",
       "    <tr>\n",
       "      <th>10103</th>\n",
       "      <td>N</td>\n",
       "      <td>C_ID_cfdb2cdc49</td>\n",
       "      <td>-0.711520</td>\n",
       "    </tr>\n",
       "    <tr>\n",
       "      <th>10104</th>\n",
       "      <td>Y</td>\n",
       "      <td>C_ID_cfdb2cdc49</td>\n",
       "      <td>-0.656749</td>\n",
       "    </tr>\n",
       "    <tr>\n",
       "      <th>10105</th>\n",
       "      <td>N</td>\n",
       "      <td>C_ID_cfdb2cdc49</td>\n",
       "      <td>-0.707088</td>\n",
       "    </tr>\n",
       "    <tr>\n",
       "      <th>10106</th>\n",
       "      <td>Y</td>\n",
       "      <td>C_ID_cfdb2cdc49</td>\n",
       "      <td>-0.716855</td>\n",
       "    </tr>\n",
       "  </tbody>\n",
       "</table>\n",
       "</div>"
      ],
      "text/plain": [
       "      authorized_flag          card_id  purchase_amount\n",
       "10102               Y  C_ID_cfdb2cdc49        -0.736585\n",
       "10103               N  C_ID_cfdb2cdc49        -0.711520\n",
       "10104               Y  C_ID_cfdb2cdc49        -0.656749\n",
       "10105               N  C_ID_cfdb2cdc49        -0.707088\n",
       "10106               Y  C_ID_cfdb2cdc49        -0.716855"
      ]
     },
     "execution_count": 26,
     "metadata": {},
     "output_type": "execute_result"
    }
   ],
   "source": [
    "df_tr_ab.head()"
   ]
  },
  {
   "cell_type": "code",
   "execution_count": 28,
   "metadata": {},
   "outputs": [
    {
     "data": {
      "text/plain": [
       "Y    159441\n",
       "N     28125\n",
       "Name: authorized_flag, dtype: int64"
      ]
     },
     "execution_count": 28,
     "metadata": {},
     "output_type": "execute_result"
    }
   ],
   "source": [
    "df_tr_ab[\"authorized_flag\"].value_counts()"
   ]
  },
  {
   "cell_type": "code",
   "execution_count": 30,
   "metadata": {},
   "outputs": [
    {
     "data": {
      "text/html": [
       "<div>\n",
       "<style>\n",
       "    .dataframe thead tr:only-child th {\n",
       "        text-align: right;\n",
       "    }\n",
       "\n",
       "    .dataframe thead th {\n",
       "        text-align: left;\n",
       "    }\n",
       "\n",
       "    .dataframe tbody tr th {\n",
       "        vertical-align: top;\n",
       "    }\n",
       "</style>\n",
       "<table border=\"1\" class=\"dataframe\">\n",
       "  <thead>\n",
       "    <tr style=\"text-align: right;\">\n",
       "      <th></th>\n",
       "      <th>purchase_amount</th>\n",
       "    </tr>\n",
       "  </thead>\n",
       "  <tbody>\n",
       "    <tr>\n",
       "      <th>count</th>\n",
       "      <td>187566.000000</td>\n",
       "    </tr>\n",
       "    <tr>\n",
       "      <th>mean</th>\n",
       "      <td>0.126445</td>\n",
       "    </tr>\n",
       "    <tr>\n",
       "      <th>std</th>\n",
       "      <td>206.246693</td>\n",
       "    </tr>\n",
       "    <tr>\n",
       "      <th>min</th>\n",
       "      <td>-0.746893</td>\n",
       "    </tr>\n",
       "    <tr>\n",
       "      <th>25%</th>\n",
       "      <td>-0.721363</td>\n",
       "    </tr>\n",
       "    <tr>\n",
       "      <th>50%</th>\n",
       "      <td>-0.688304</td>\n",
       "    </tr>\n",
       "    <tr>\n",
       "      <th>75%</th>\n",
       "      <td>-0.596793</td>\n",
       "    </tr>\n",
       "    <tr>\n",
       "      <th>max</th>\n",
       "      <td>87140.705912</td>\n",
       "    </tr>\n",
       "  </tbody>\n",
       "</table>\n",
       "</div>"
      ],
      "text/plain": [
       "       purchase_amount\n",
       "count    187566.000000\n",
       "mean          0.126445\n",
       "std         206.246693\n",
       "min          -0.746893\n",
       "25%          -0.721363\n",
       "50%          -0.688304\n",
       "75%          -0.596793\n",
       "max       87140.705912"
      ]
     },
     "execution_count": 30,
     "metadata": {},
     "output_type": "execute_result"
    }
   ],
   "source": [
    "df_tr_ab.describe()"
   ]
  }
 ],
 "metadata": {
  "kernelspec": {
   "display_name": "Python 3",
   "language": "python",
   "name": "python3"
  },
  "language_info": {
   "codemirror_mode": {
    "name": "ipython",
    "version": 3
   },
   "file_extension": ".py",
   "mimetype": "text/x-python",
   "name": "python",
   "nbconvert_exporter": "python",
   "pygments_lexer": "ipython3",
   "version": "3.6.8"
  }
 },
 "nbformat": 4,
 "nbformat_minor": 2
}
