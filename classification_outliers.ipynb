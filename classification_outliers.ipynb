{
 "cells": [
  {
   "cell_type": "markdown",
   "metadata": {},
   "source": [
    "# Classification des outliers"
   ]
  },
  {
   "cell_type": "markdown",
   "metadata": {},
   "source": [
    "seance_projet_20190319_outliers"
   ]
  },
  {
   "cell_type": "code",
   "execution_count": 1,
   "metadata": {},
   "outputs": [],
   "source": [
    "import numpy as np\n",
    "import pandas as pd\n",
    "pd.set_option('display.max_columns', None)\n",
    "\n",
    "import matplotlib.pyplot as plt\n",
    "%matplotlib inline\n",
    "import seaborn as sns\n",
    "sns.set()\n",
    "\n",
    "from sklearn import preprocessing\n",
    "from sklearn.model_selection import train_test_split, cross_validate, cross_val_score, cross_val_predict\n",
    "from sklearn.linear_model import LinearRegression, RidgeCV, LassoCV, Ridge, Lasso, ElasticNetCV\n",
    "from sklearn.tree import DecisionTreeRegressor, DecisionTreeClassifier\n",
    "from sklearn.ensemble import RandomForestRegressor, GradientBoostingRegressor\n",
    "from sklearn.ensemble import RandomForestClassifier, AdaBoostClassifier\n",
    "from sklearn.svm import SVR\n",
    "from sklearn.metrics import mean_squared_error, f1_score\n",
    "from sklearn.preprocessing import StandardScaler\n",
    "from sklearn.externals.joblib import dump, load\n",
    "from sklearn.metrics import roc_curve, auc\n",
    "from sklearn.ensemble import GradientBoostingClassifier\n",
    "from imblearn.over_sampling import SMOTE"
   ]
  },
  {
   "cell_type": "code",
   "execution_count": 2,
   "metadata": {},
   "outputs": [],
   "source": [
    "#Les datasets train et test\n",
    "df_train = pd.read_csv(\"df_train20190319.csv\", index_col = 0) # indexé par card_id\n",
    "df_test = pd.read_csv(\"df_test20190319.csv\", index_col = 0) # indexé par card_id"
   ]
  },
  {
   "cell_type": "code",
   "execution_count": 3,
   "metadata": {},
   "outputs": [],
   "source": [
    "for df in [df_train, df_test]:\n",
    "    for col in [\"last_purchase_hist\", \"last_purchase_new\"]:\n",
    "        df[col] = df[col].replace([0],[\"0000-00-00 00:00:00\"])"
   ]
  },
  {
   "cell_type": "code",
   "execution_count": 4,
   "metadata": {},
   "outputs": [],
   "source": [
    "for df in [df_train, df_test]:\n",
    "    for col in [\"last_purchase_hist\", \"last_purchase_new\"]:\n",
    "        df[col] = df[col].apply(lambda x: int(x[:4] + x[5:7] + x[8:10]))"
   ]
  },
  {
   "cell_type": "code",
   "execution_count": 5,
   "metadata": {},
   "outputs": [
    {
     "data": {
      "text/html": [
       "<div>\n",
       "<style scoped>\n",
       "    .dataframe tbody tr th:only-of-type {\n",
       "        vertical-align: middle;\n",
       "    }\n",
       "\n",
       "    .dataframe tbody tr th {\n",
       "        vertical-align: top;\n",
       "    }\n",
       "\n",
       "    .dataframe thead th {\n",
       "        text-align: right;\n",
       "    }\n",
       "</style>\n",
       "<table border=\"1\" class=\"dataframe\">\n",
       "  <thead>\n",
       "    <tr style=\"text-align: right;\">\n",
       "      <th></th>\n",
       "      <th>feature_1</th>\n",
       "      <th>feature_2</th>\n",
       "      <th>feature_3</th>\n",
       "      <th>target</th>\n",
       "      <th>nb_purchases_hist</th>\n",
       "      <th>nb_purchases_new</th>\n",
       "      <th>purchase_amount_tot_hist</th>\n",
       "      <th>purchase_amount_tot_new</th>\n",
       "      <th>active_months</th>\n",
       "      <th>last_purchase_hist</th>\n",
       "      <th>last_purchase_new</th>\n",
       "    </tr>\n",
       "    <tr>\n",
       "      <th>card_id</th>\n",
       "      <th></th>\n",
       "      <th></th>\n",
       "      <th></th>\n",
       "      <th></th>\n",
       "      <th></th>\n",
       "      <th></th>\n",
       "      <th></th>\n",
       "      <th></th>\n",
       "      <th></th>\n",
       "      <th></th>\n",
       "      <th></th>\n",
       "    </tr>\n",
       "  </thead>\n",
       "  <tbody>\n",
       "    <tr>\n",
       "      <th>C_ID_92a2005557</th>\n",
       "      <td>5</td>\n",
       "      <td>2</td>\n",
       "      <td>1</td>\n",
       "      <td>-0.820283</td>\n",
       "      <td>260</td>\n",
       "      <td>23.0</td>\n",
       "      <td>-165.968739</td>\n",
       "      <td>-13.244202</td>\n",
       "      <td>8</td>\n",
       "      <td>20180225</td>\n",
       "      <td>20180429</td>\n",
       "    </tr>\n",
       "    <tr>\n",
       "      <th>C_ID_3d0044924f</th>\n",
       "      <td>4</td>\n",
       "      <td>1</td>\n",
       "      <td>0</td>\n",
       "      <td>0.392913</td>\n",
       "      <td>350</td>\n",
       "      <td>6.0</td>\n",
       "      <td>-210.006336</td>\n",
       "      <td>-4.355735</td>\n",
       "      <td>13</td>\n",
       "      <td>20180131</td>\n",
       "      <td>20180330</td>\n",
       "    </tr>\n",
       "    <tr>\n",
       "      <th>C_ID_d639edf6cd</th>\n",
       "      <td>2</td>\n",
       "      <td>2</td>\n",
       "      <td>0</td>\n",
       "      <td>0.688056</td>\n",
       "      <td>43</td>\n",
       "      <td>1.0</td>\n",
       "      <td>-29.167391</td>\n",
       "      <td>-0.700326</td>\n",
       "      <td>18</td>\n",
       "      <td>20180227</td>\n",
       "      <td>20180428</td>\n",
       "    </tr>\n",
       "    <tr>\n",
       "      <th>C_ID_186d6a6901</th>\n",
       "      <td>4</td>\n",
       "      <td>3</td>\n",
       "      <td>0</td>\n",
       "      <td>0.142495</td>\n",
       "      <td>77</td>\n",
       "      <td>7.0</td>\n",
       "      <td>-49.491364</td>\n",
       "      <td>-4.654372</td>\n",
       "      <td>5</td>\n",
       "      <td>20180228</td>\n",
       "      <td>20180418</td>\n",
       "    </tr>\n",
       "    <tr>\n",
       "      <th>C_ID_cdbd2c0db2</th>\n",
       "      <td>1</td>\n",
       "      <td>3</td>\n",
       "      <td>0</td>\n",
       "      <td>-0.159749</td>\n",
       "      <td>133</td>\n",
       "      <td>36.0</td>\n",
       "      <td>-48.687656</td>\n",
       "      <td>-19.926237</td>\n",
       "      <td>3</td>\n",
       "      <td>20180228</td>\n",
       "      <td>20180428</td>\n",
       "    </tr>\n",
       "  </tbody>\n",
       "</table>\n",
       "</div>"
      ],
      "text/plain": [
       "                 feature_1  feature_2  feature_3    target  nb_purchases_hist  \\\n",
       "card_id                                                                         \n",
       "C_ID_92a2005557          5          2          1 -0.820283                260   \n",
       "C_ID_3d0044924f          4          1          0  0.392913                350   \n",
       "C_ID_d639edf6cd          2          2          0  0.688056                 43   \n",
       "C_ID_186d6a6901          4          3          0  0.142495                 77   \n",
       "C_ID_cdbd2c0db2          1          3          0 -0.159749                133   \n",
       "\n",
       "                 nb_purchases_new  purchase_amount_tot_hist  \\\n",
       "card_id                                                       \n",
       "C_ID_92a2005557              23.0               -165.968739   \n",
       "C_ID_3d0044924f               6.0               -210.006336   \n",
       "C_ID_d639edf6cd               1.0                -29.167391   \n",
       "C_ID_186d6a6901               7.0                -49.491364   \n",
       "C_ID_cdbd2c0db2              36.0                -48.687656   \n",
       "\n",
       "                 purchase_amount_tot_new  active_months  last_purchase_hist  \\\n",
       "card_id                                                                       \n",
       "C_ID_92a2005557               -13.244202              8            20180225   \n",
       "C_ID_3d0044924f                -4.355735             13            20180131   \n",
       "C_ID_d639edf6cd                -0.700326             18            20180227   \n",
       "C_ID_186d6a6901                -4.654372              5            20180228   \n",
       "C_ID_cdbd2c0db2               -19.926237              3            20180228   \n",
       "\n",
       "                 last_purchase_new  \n",
       "card_id                             \n",
       "C_ID_92a2005557           20180429  \n",
       "C_ID_3d0044924f           20180330  \n",
       "C_ID_d639edf6cd           20180428  \n",
       "C_ID_186d6a6901           20180418  \n",
       "C_ID_cdbd2c0db2           20180428  "
      ]
     },
     "execution_count": 5,
     "metadata": {},
     "output_type": "execute_result"
    }
   ],
   "source": [
    "df_train.head()"
   ]
  },
  {
   "cell_type": "code",
   "execution_count": 6,
   "metadata": {},
   "outputs": [],
   "source": [
    "df_train[\"outliers_target\"] = df_train[\"target\"].apply(lambda x: 1 if (x < -30) else 0)"
   ]
  },
  {
   "cell_type": "code",
   "execution_count": 7,
   "metadata": {},
   "outputs": [
    {
     "data": {
      "text/html": [
       "<div>\n",
       "<style scoped>\n",
       "    .dataframe tbody tr th:only-of-type {\n",
       "        vertical-align: middle;\n",
       "    }\n",
       "\n",
       "    .dataframe tbody tr th {\n",
       "        vertical-align: top;\n",
       "    }\n",
       "\n",
       "    .dataframe thead th {\n",
       "        text-align: right;\n",
       "    }\n",
       "</style>\n",
       "<table border=\"1\" class=\"dataframe\">\n",
       "  <thead>\n",
       "    <tr style=\"text-align: right;\">\n",
       "      <th></th>\n",
       "      <th>feature_1</th>\n",
       "      <th>feature_2</th>\n",
       "      <th>feature_3</th>\n",
       "      <th>target</th>\n",
       "      <th>nb_purchases_hist</th>\n",
       "      <th>nb_purchases_new</th>\n",
       "      <th>purchase_amount_tot_hist</th>\n",
       "      <th>purchase_amount_tot_new</th>\n",
       "      <th>active_months</th>\n",
       "      <th>last_purchase_hist</th>\n",
       "      <th>last_purchase_new</th>\n",
       "      <th>outliers_target</th>\n",
       "    </tr>\n",
       "    <tr>\n",
       "      <th>card_id</th>\n",
       "      <th></th>\n",
       "      <th></th>\n",
       "      <th></th>\n",
       "      <th></th>\n",
       "      <th></th>\n",
       "      <th></th>\n",
       "      <th></th>\n",
       "      <th></th>\n",
       "      <th></th>\n",
       "      <th></th>\n",
       "      <th></th>\n",
       "      <th></th>\n",
       "    </tr>\n",
       "  </thead>\n",
       "  <tbody>\n",
       "    <tr>\n",
       "      <th>C_ID_92a2005557</th>\n",
       "      <td>5</td>\n",
       "      <td>2</td>\n",
       "      <td>1</td>\n",
       "      <td>-0.820283</td>\n",
       "      <td>260</td>\n",
       "      <td>23.0</td>\n",
       "      <td>-165.968739</td>\n",
       "      <td>-13.244202</td>\n",
       "      <td>8</td>\n",
       "      <td>20180225</td>\n",
       "      <td>20180429</td>\n",
       "      <td>0</td>\n",
       "    </tr>\n",
       "    <tr>\n",
       "      <th>C_ID_3d0044924f</th>\n",
       "      <td>4</td>\n",
       "      <td>1</td>\n",
       "      <td>0</td>\n",
       "      <td>0.392913</td>\n",
       "      <td>350</td>\n",
       "      <td>6.0</td>\n",
       "      <td>-210.006336</td>\n",
       "      <td>-4.355735</td>\n",
       "      <td>13</td>\n",
       "      <td>20180131</td>\n",
       "      <td>20180330</td>\n",
       "      <td>0</td>\n",
       "    </tr>\n",
       "    <tr>\n",
       "      <th>C_ID_d639edf6cd</th>\n",
       "      <td>2</td>\n",
       "      <td>2</td>\n",
       "      <td>0</td>\n",
       "      <td>0.688056</td>\n",
       "      <td>43</td>\n",
       "      <td>1.0</td>\n",
       "      <td>-29.167391</td>\n",
       "      <td>-0.700326</td>\n",
       "      <td>18</td>\n",
       "      <td>20180227</td>\n",
       "      <td>20180428</td>\n",
       "      <td>0</td>\n",
       "    </tr>\n",
       "    <tr>\n",
       "      <th>C_ID_186d6a6901</th>\n",
       "      <td>4</td>\n",
       "      <td>3</td>\n",
       "      <td>0</td>\n",
       "      <td>0.142495</td>\n",
       "      <td>77</td>\n",
       "      <td>7.0</td>\n",
       "      <td>-49.491364</td>\n",
       "      <td>-4.654372</td>\n",
       "      <td>5</td>\n",
       "      <td>20180228</td>\n",
       "      <td>20180418</td>\n",
       "      <td>0</td>\n",
       "    </tr>\n",
       "    <tr>\n",
       "      <th>C_ID_cdbd2c0db2</th>\n",
       "      <td>1</td>\n",
       "      <td>3</td>\n",
       "      <td>0</td>\n",
       "      <td>-0.159749</td>\n",
       "      <td>133</td>\n",
       "      <td>36.0</td>\n",
       "      <td>-48.687656</td>\n",
       "      <td>-19.926237</td>\n",
       "      <td>3</td>\n",
       "      <td>20180228</td>\n",
       "      <td>20180428</td>\n",
       "      <td>0</td>\n",
       "    </tr>\n",
       "  </tbody>\n",
       "</table>\n",
       "</div>"
      ],
      "text/plain": [
       "                 feature_1  feature_2  feature_3    target  nb_purchases_hist  \\\n",
       "card_id                                                                         \n",
       "C_ID_92a2005557          5          2          1 -0.820283                260   \n",
       "C_ID_3d0044924f          4          1          0  0.392913                350   \n",
       "C_ID_d639edf6cd          2          2          0  0.688056                 43   \n",
       "C_ID_186d6a6901          4          3          0  0.142495                 77   \n",
       "C_ID_cdbd2c0db2          1          3          0 -0.159749                133   \n",
       "\n",
       "                 nb_purchases_new  purchase_amount_tot_hist  \\\n",
       "card_id                                                       \n",
       "C_ID_92a2005557              23.0               -165.968739   \n",
       "C_ID_3d0044924f               6.0               -210.006336   \n",
       "C_ID_d639edf6cd               1.0                -29.167391   \n",
       "C_ID_186d6a6901               7.0                -49.491364   \n",
       "C_ID_cdbd2c0db2              36.0                -48.687656   \n",
       "\n",
       "                 purchase_amount_tot_new  active_months  last_purchase_hist  \\\n",
       "card_id                                                                       \n",
       "C_ID_92a2005557               -13.244202              8            20180225   \n",
       "C_ID_3d0044924f                -4.355735             13            20180131   \n",
       "C_ID_d639edf6cd                -0.700326             18            20180227   \n",
       "C_ID_186d6a6901                -4.654372              5            20180228   \n",
       "C_ID_cdbd2c0db2               -19.926237              3            20180228   \n",
       "\n",
       "                 last_purchase_new  outliers_target  \n",
       "card_id                                              \n",
       "C_ID_92a2005557           20180429                0  \n",
       "C_ID_3d0044924f           20180330                0  \n",
       "C_ID_d639edf6cd           20180428                0  \n",
       "C_ID_186d6a6901           20180418                0  \n",
       "C_ID_cdbd2c0db2           20180428                0  "
      ]
     },
     "execution_count": 7,
     "metadata": {},
     "output_type": "execute_result"
    }
   ],
   "source": [
    "df_train.head()"
   ]
  },
  {
   "cell_type": "code",
   "execution_count": 14,
   "metadata": {},
   "outputs": [
    {
     "name": "stdout",
     "output_type": "stream",
     "text": [
      "Pourcentage d'outliers : 1.09 %\n"
     ]
    }
   ],
   "source": [
    "freq_outliers = df_train[\"outliers_target\"].sum()/ df_train[\"outliers_target\"].count()\n",
    "\n",
    "print(\"Pourcentage d'outliers :\", round(freq_outliers * 100,2), \"%\")"
   ]
  },
  {
   "cell_type": "markdown",
   "metadata": {},
   "source": [
    "### Classification des outliers avec un RandomForestClassifier"
   ]
  },
  {
   "cell_type": "code",
   "execution_count": 68,
   "metadata": {},
   "outputs": [],
   "source": [
    "my_columns = df_train.drop([\"target\", \"outliers_target\"], axis = 1).columns\n",
    "\n",
    "data = df_train[my_columns]\n",
    "target = df_train.outliers_target\n",
    "\n",
    "X_train, X_test, y_train, y_test = train_test_split(data, target, test_size = 0.2, random_state = 42)\n"
   ]
  },
  {
   "cell_type": "code",
   "execution_count": 69,
   "metadata": {},
   "outputs": [
    {
     "data": {
      "text/html": [
       "<div>\n",
       "<style scoped>\n",
       "    .dataframe tbody tr th:only-of-type {\n",
       "        vertical-align: middle;\n",
       "    }\n",
       "\n",
       "    .dataframe tbody tr th {\n",
       "        vertical-align: top;\n",
       "    }\n",
       "\n",
       "    .dataframe thead th {\n",
       "        text-align: right;\n",
       "    }\n",
       "</style>\n",
       "<table border=\"1\" class=\"dataframe\">\n",
       "  <thead>\n",
       "    <tr style=\"text-align: right;\">\n",
       "      <th>Classe prédite</th>\n",
       "      <th>0</th>\n",
       "    </tr>\n",
       "    <tr>\n",
       "      <th>Classe réelle</th>\n",
       "      <th></th>\n",
       "    </tr>\n",
       "  </thead>\n",
       "  <tbody>\n",
       "    <tr>\n",
       "      <th>0</th>\n",
       "      <td>39934</td>\n",
       "    </tr>\n",
       "    <tr>\n",
       "      <th>1</th>\n",
       "      <td>450</td>\n",
       "    </tr>\n",
       "  </tbody>\n",
       "</table>\n",
       "</div>"
      ],
      "text/plain": [
       "Classe prédite      0\n",
       "Classe réelle        \n",
       "0               39934\n",
       "1                 450"
      ]
     },
     "execution_count": 69,
     "metadata": {},
     "output_type": "execute_result"
    }
   ],
   "source": [
    "clf = RandomForestClassifier(max_depth = 8, n_estimators = 12)\n",
    "\n",
    "clf.fit(X_train, y_train)\n",
    "\n",
    "pred_train = clf.predict(X_train)\n",
    "pred_test = clf.predict(X_test)\n",
    "\n",
    "pd.crosstab(y_test, pred_test, rownames = [\"Classe réelle\"], colnames = [\"Classe prédite\"])"
   ]
  },
  {
   "cell_type": "markdown",
   "metadata": {},
   "source": [
    "Sans surprise, aucun outlier n'est détecté."
   ]
  },
  {
   "cell_type": "markdown",
   "metadata": {},
   "source": [
    "En changeant le seuil de probabilité :"
   ]
  },
  {
   "cell_type": "code",
   "execution_count": 81,
   "metadata": {},
   "outputs": [
    {
     "name": "stdout",
     "output_type": "stream",
     "text": [
      "Classe prédite      0    1\n",
      "Classe réelle             \n",
      "0               39619  315\n",
      "1                 399   51\n",
      "0.9999960072189481 3.99278105185824e-06\n"
     ]
    },
    {
     "data": {
      "image/png": "[encoded data removed]",
      "text/plain": [
       "<Figure size 432x288 with 1 Axes>"
      ]
     },
     "metadata": {
      "needs_background": "light"
     },
     "output_type": "display_data"
    }
   ],
   "source": [
    "probs = clf.predict_proba(X_test)\n",
    "y_preds = np.where(probs[:,1] > 0.1, 1, 0)\n",
    "\n",
    "print(pd.crosstab(y_test, y_preds, rownames = [\"Classe réelle\"], colnames = [\"Classe prédite\"]))\n",
    "\n",
    "print(probs.max(), probs.min())\n",
    "\n",
    "fpr, tpr, seuils = roc_curve(y_test, probs[:,1], pos_label = 1 )\n",
    "roc_auc = auc(fpr, tpr)\n",
    "\n",
    "plt.plot(fpr, tpr, label = \"Modèle clf (auc = %0.2f)\" %roc_auc);\n",
    "plt.legend();\n"
   ]
  },
  {
   "cell_type": "markdown",
   "metadata": {},
   "source": [
    "Le classificateur n'est pas suffisamment bon."
   ]
  },
  {
   "cell_type": "markdown",
   "metadata": {},
   "source": [
    "### Avec sous-échantillonnage / undersampling"
   ]
  },
  {
   "cell_type": "code",
   "execution_count": 93,
   "metadata": {},
   "outputs": [],
   "source": [
    "pos_events = df_train[df_train[\"outliers_target\"] == 1]\n",
    "neg_events = df_train[df_train[\"outliers_target\"] == 0]\n",
    "\n",
    "pos_events = pos_events.reindex(np.random.permutation(pos_events.index))\n",
    "undersampled_data = pd.concat([neg_events.head(len(pos_events)), pos_events])"
   ]
  },
  {
   "cell_type": "code",
   "execution_count": 94,
   "metadata": {},
   "outputs": [],
   "source": [
    "my_columns = df_train.drop([\"target\", \"outliers_target\"], axis = 1).columns\n",
    "\n",
    "data = undersampled_data[my_columns]\n",
    "\n",
    "target = undersampled_data.outliers_target\n",
    "\n",
    "X_train, X_test, y_train, y_test = train_test_split(data, target, test_size = 0.25, random_state = 555)"
   ]
  },
  {
   "cell_type": "code",
   "execution_count": 96,
   "metadata": {},
   "outputs": [
    {
     "data": {
      "text/html": [
       "<div>\n",
       "<style scoped>\n",
       "    .dataframe tbody tr th:only-of-type {\n",
       "        vertical-align: middle;\n",
       "    }\n",
       "\n",
       "    .dataframe tbody tr th {\n",
       "        vertical-align: top;\n",
       "    }\n",
       "\n",
       "    .dataframe thead th {\n",
       "        text-align: right;\n",
       "    }\n",
       "</style>\n",
       "<table border=\"1\" class=\"dataframe\">\n",
       "  <thead>\n",
       "    <tr style=\"text-align: right;\">\n",
       "      <th>Classe prédite</th>\n",
       "      <th>0</th>\n",
       "      <th>1</th>\n",
       "    </tr>\n",
       "    <tr>\n",
       "      <th>Classe réelle</th>\n",
       "      <th></th>\n",
       "      <th></th>\n",
       "    </tr>\n",
       "  </thead>\n",
       "  <tbody>\n",
       "    <tr>\n",
       "      <th>0</th>\n",
       "      <td>411</td>\n",
       "      <td>132</td>\n",
       "    </tr>\n",
       "    <tr>\n",
       "      <th>1</th>\n",
       "      <td>142</td>\n",
       "      <td>419</td>\n",
       "    </tr>\n",
       "  </tbody>\n",
       "</table>\n",
       "</div>"
      ],
      "text/plain": [
       "Classe prédite    0    1\n",
       "Classe réelle           \n",
       "0               411  132\n",
       "1               142  419"
      ]
     },
     "execution_count": 96,
     "metadata": {},
     "output_type": "execute_result"
    }
   ],
   "source": [
    "dtc_u = DecisionTreeClassifier(max_depth = 5)\n",
    "\n",
    "ac = AdaBoostClassifier(base_estimator = dtc_u, learning_rate = 0.1, n_estimators = 100)\n",
    "ac.fit(X_train, y_train)\n",
    "pred_train = ac.predict(X_train)\n",
    "y_pred = ac.predict(X_test)\n",
    "\n",
    "pd.crosstab(y_test, y_pred, rownames = [\"Classe réelle\"], colnames = [\"Classe prédite\"])"
   ]
  },
  {
   "cell_type": "code",
   "execution_count": 104,
   "metadata": {},
   "outputs": [
    {
     "name": "stdout",
     "output_type": "stream",
     "text": [
      "Classe prédite    0    1\n",
      "Classe réelle           \n",
      "0               411  132\n",
      "1               142  419\n",
      "0.9999438671884315 5.613281156846192e-05\n"
     ]
    },
    {
     "data": {
      "image/png": "[encoded data removed]",
      "text/plain": [
       "<Figure size 432x288 with 1 Axes>"
      ]
     },
     "metadata": {
      "needs_background": "light"
     },
     "output_type": "display_data"
    }
   ],
   "source": [
    "probs = ac.predict_proba(X_test)\n",
    "y_preds = np.where(probs[:,1] > 0.5, 1, 0)\n",
    "\n",
    "print(pd.crosstab(y_test, y_preds, rownames = [\"Classe réelle\"], colnames = [\"Classe prédite\"]))\n",
    "\n",
    "print(probs.max(), probs.min())\n",
    "\n",
    "\n",
    "fpr, tpr, seuils = roc_curve(y_test, probs[:,1], pos_label = 1 )\n",
    "roc_auc = auc(fpr, tpr)\n",
    "\n",
    "plt.plot(fpr, tpr, label = \"Modèle clf (auc = %0.2f)\" %roc_auc);\n",
    "plt.legend();"
   ]
  },
  {
   "cell_type": "markdown",
   "metadata": {},
   "source": [
    "### Avec sur-échantillonnage / oversampling (SMOTE)"
   ]
  },
  {
   "cell_type": "code",
   "execution_count": 82,
   "metadata": {},
   "outputs": [],
   "source": [
    "my_columns = df_train.drop([\"target\", \"outliers_target\"], axis = 1).columns\n",
    "\n",
    "data = df_train[my_columns]\n",
    "target = df_train.outliers_target\n",
    "\n",
    "X_train, X_test, y_train, y_test = train_test_split(data, target, test_size = 0.25, random_state = 42)\n",
    "\n",
    "sm = SMOTE()\n",
    "data_res, target_res = sm.fit_sample(X_train, y_train)"
   ]
  },
  {
   "cell_type": "code",
   "execution_count": 83,
   "metadata": {},
   "outputs": [
    {
     "data": {
      "text/html": [
       "<div>\n",
       "<style scoped>\n",
       "    .dataframe tbody tr th:only-of-type {\n",
       "        vertical-align: middle;\n",
       "    }\n",
       "\n",
       "    .dataframe tbody tr th {\n",
       "        vertical-align: top;\n",
       "    }\n",
       "\n",
       "    .dataframe thead th {\n",
       "        text-align: right;\n",
       "    }\n",
       "</style>\n",
       "<table border=\"1\" class=\"dataframe\">\n",
       "  <thead>\n",
       "    <tr style=\"text-align: right;\">\n",
       "      <th>Classe prédite</th>\n",
       "      <th>0</th>\n",
       "      <th>1</th>\n",
       "    </tr>\n",
       "    <tr>\n",
       "      <th>Classe réelle</th>\n",
       "      <th></th>\n",
       "      <th></th>\n",
       "    </tr>\n",
       "  </thead>\n",
       "  <tbody>\n",
       "    <tr>\n",
       "      <th>0</th>\n",
       "      <td>43172</td>\n",
       "      <td>6756</td>\n",
       "    </tr>\n",
       "    <tr>\n",
       "      <th>1</th>\n",
       "      <td>236</td>\n",
       "      <td>316</td>\n",
       "    </tr>\n",
       "  </tbody>\n",
       "</table>\n",
       "</div>"
      ],
      "text/plain": [
       "Classe prédite      0     1\n",
       "Classe réelle              \n",
       "0               43172  6756\n",
       "1                 236   316"
      ]
     },
     "execution_count": 83,
     "metadata": {},
     "output_type": "execute_result"
    }
   ],
   "source": [
    "clf = GradientBoostingClassifier(max_depth = 8, n_estimators = 12, learning_rate = 0.01, min_samples_leaf = 1, random_state = 42)\n",
    "\n",
    "clf.fit(data_res, target_res)\n",
    "y_pred = clf.predict(X_test)\n",
    "\n",
    "pd.crosstab(y_test, y_pred, rownames = [\"Classe réelle\"], colnames = [\"Classe prédite\"])"
   ]
  },
  {
   "cell_type": "code",
   "execution_count": 92,
   "metadata": {},
   "outputs": [
    {
     "name": "stdout",
     "output_type": "stream",
     "text": [
      "Classe prédite      0     1\n",
      "Classe réelle              \n",
      "0               46514  3414\n",
      "1                 352   200\n"
     ]
    },
    {
     "data": {
      "image/png": "[encoded data removed]",
      "text/plain": [
       "<Figure size 432x288 with 1 Axes>"
      ]
     },
     "metadata": {
      "needs_background": "light"
     },
     "output_type": "display_data"
    }
   ],
   "source": [
    "probs = clf.predict_proba(X_test)\n",
    "y_preds = np.where(probs[:,1] > 0.51, 1, 0)\n",
    "\n",
    "print(pd.crosstab(y_test, y_preds, rownames = [\"Classe réelle\"], colnames = [\"Classe prédite\"]))\n",
    "\n",
    "\n",
    "fpr, tpr, seuils = roc_curve(y_test, probs[:,1], pos_label = 1 )\n",
    "roc_auc = auc(fpr, tpr)\n",
    "\n",
    "plt.plot(fpr, tpr, label = \"Modèle clf (auc = %0.2f)\" %roc_auc);\n",
    "plt.legend();"
   ]
  }
 ],
 "metadata": {
  "kernelspec": {
   "display_name": "Python 3",
   "language": "python",
   "name": "python3"
  },
  "language_info": {
   "codemirror_mode": {
    "name": "ipython",
    "version": 3
   },
   "file_extension": ".py",
   "mimetype": "text/x-python",
   "name": "python",
   "nbconvert_exporter": "python",
   "pygments_lexer": "ipython3",
   "version": "3.6.8"
  }
 },
 "nbformat": 4,
 "nbformat_minor": 2
}
